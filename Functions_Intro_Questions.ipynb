{
  "nbformat": 4,
  "nbformat_minor": 0,
  "metadata": {
    "colab": {
      "name": "Functions_Intro_Questions.ipynb",
      "provenance": [],
      "authorship_tag": "ABX9TyPSlgBjade2qSRb4AoaYI2Y",
      "include_colab_link": true
    },
    "kernelspec": {
      "name": "python3",
      "display_name": "Python 3"
    },
    "language_info": {
      "name": "python"
    }
  },
  "cells": [
    {
      "cell_type": "markdown",
      "metadata": {
        "id": "view-in-github",
        "colab_type": "text"
      },
      "source": [
        "<a href=\"https://colab.research.google.com/github/lnandi1/Cod21/blob/main/Functions_Intro_Questions.ipynb\" target=\"_parent\"><img src=\"https://colab.research.google.com/assets/colab-badge.svg\" alt=\"Open In Colab\"/></a>"
      ]
    },
    {
      "cell_type": "markdown",
      "metadata": {
        "id": "c9z7rbKWTQk9"
      },
      "source": [
        "### **Introduction**\n",
        "We will looked at worked examples of FUNCTIONS in Python.\n",
        "<br><br>There are also some programs for you to write regarding FUNCTIONS.\n",
        "<br><br>FUNCTIONS are one of the fundamental building blocks of programming and it is important you get to grips with the concept of FUNCTIONS.\n",
        "<br><br>Click below for a Video providing an explanation to Functions\n",
        "\n",
        "https://youtu.be/kv88dyIDNiE "
      ]
    },
    {
      "cell_type": "markdown",
      "metadata": {
        "id": "Cj033Mzik9OU"
      },
      "source": [
        "**Study Programs 1,2 and 3 below and then do Questions 1 and 2**"
      ]
    },
    {
      "cell_type": "code",
      "metadata": {
        "id": "PxqOhfMmTNTo"
      },
      "source": [
        "# Program 1\n",
        "def Addition1():\n",
        "  Apples = 10\n",
        "  Bananas = 12\n",
        "  Total = Apples + Bananas\n",
        "  print(Total)"
      ],
      "execution_count": null,
      "outputs": []
    },
    {
      "cell_type": "markdown",
      "metadata": {
        "id": "DmSifK0S2qJk"
      },
      "source": [
        ""
      ]
    },
    {
      "cell_type": "code",
      "metadata": {
        "colab": {
          "base_uri": "https://localhost:8080/"
        },
        "id": "CSspUSfxuJqY",
        "outputId": "e4d93333-55d9-46e1-b8f0-3a33299194e3"
      },
      "source": [
        "# Calling Program 1\n",
        "Addition1()"
      ],
      "execution_count": null,
      "outputs": [
        {
          "output_type": "stream",
          "text": [
            "22\n"
          ],
          "name": "stdout"
        }
      ]
    },
    {
      "cell_type": "code",
      "metadata": {
        "id": "RHTCVMCPHRto"
      },
      "source": [
        "# Program 2\n",
        "def Addition2(a,b):\n",
        "  Total = a + b\n",
        "  print(Total)"
      ],
      "execution_count": null,
      "outputs": []
    },
    {
      "cell_type": "code",
      "metadata": {
        "colab": {
          "base_uri": "https://localhost:8080/"
        },
        "id": "NmoZpzYHuZvw",
        "outputId": "7523bb21-b867-47b2-84b0-01d97a8bb052"
      },
      "source": [
        "# Calling Program 2\n",
        "Addition2(100,200)"
      ],
      "execution_count": null,
      "outputs": [
        {
          "output_type": "stream",
          "text": [
            "300\n"
          ],
          "name": "stdout"
        }
      ]
    },
    {
      "cell_type": "code",
      "metadata": {
        "id": "CcCHMnLqIs38"
      },
      "source": [
        "# Program 3\n",
        "def Addition3(a,b):\n",
        "  Total = a+b\n",
        "  return(Total)"
      ],
      "execution_count": null,
      "outputs": []
    },
    {
      "cell_type": "code",
      "metadata": {
        "colab": {
          "base_uri": "https://localhost:8080/"
        },
        "id": "OUYlwLCZuZAn",
        "outputId": "bd472642-fe2d-4270-9d4a-265c034a9c19"
      },
      "source": [
        "# Calling Program 3\n",
        "Sum = Addition3(200,300)\n",
        "print(Sum)"
      ],
      "execution_count": null,
      "outputs": [
        {
          "output_type": "stream",
          "text": [
            "500\n"
          ],
          "name": "stdout"
        }
      ]
    },
    {
      "cell_type": "markdown",
      "metadata": {
        "id": "lWQpUwxMu38O"
      },
      "source": [
        "**Question 1**\n",
        "<br>*Write a Function called Multiplication1 which returns the product of 2 parameters.*"
      ]
    },
    {
      "cell_type": "code",
      "metadata": {
        "id": "kpCLauKFvGdy"
      },
      "source": [
        "# Write your Function here"
      ],
      "execution_count": null,
      "outputs": []
    },
    {
      "cell_type": "markdown",
      "metadata": {
        "id": "kfqHbi2fvLWS"
      },
      "source": [
        "**Question 2**\n",
        "<br>*Write a Function called Multiplication2 which returns the product of 3 parameters*"
      ]
    },
    {
      "cell_type": "code",
      "metadata": {
        "id": "0FGOnV2wvT2X"
      },
      "source": [
        "# Write your Function here"
      ],
      "execution_count": null,
      "outputs": []
    },
    {
      "cell_type": "markdown",
      "metadata": {
        "id": "MvUHGvw1lhNc"
      },
      "source": [
        "**Study Program 3 below and then try Question 4**\n"
      ]
    },
    {
      "cell_type": "code",
      "metadata": {
        "id": "DItzfLQ7Og8T"
      },
      "source": [
        "# Program 4 - Calculate Area of a Rectangle\n",
        "def Area_Rectangle(length,width):\n",
        "  Area = length*width\n",
        "  return(Area)"
      ],
      "execution_count": null,
      "outputs": []
    },
    {
      "cell_type": "code",
      "metadata": {
        "colab": {
          "base_uri": "https://localhost:8080/"
        },
        "id": "DbV_tQpzv2Y2",
        "outputId": "3ad8c80a-5619-4d70-d81a-da3585235027"
      },
      "source": [
        "Result = Area_Rectangle(2,5)\n",
        "print(Result)"
      ],
      "execution_count": null,
      "outputs": [
        {
          "output_type": "stream",
          "text": [
            "10\n"
          ],
          "name": "stdout"
        }
      ]
    },
    {
      "cell_type": "markdown",
      "metadata": {
        "id": "wZBocowPxpsC"
      },
      "source": [
        "**Question 3** \n",
        "<br>*Write a Function which returns the Area of a Circle with a given radius*"
      ]
    },
    {
      "cell_type": "code",
      "metadata": {
        "id": "4j6nSS0SwPPo"
      },
      "source": [
        ""
      ],
      "execution_count": null,
      "outputs": []
    },
    {
      "cell_type": "markdown",
      "metadata": {
        "id": "qBMoBvTAlpn-"
      },
      "source": [
        "**Study Program 5 below and then do Question 4.\n",
        "<br><br>It is most likely that your teacher needs to provide an explanation of Program 5 before you can do Question 4**"
      ]
    },
    {
      "cell_type": "code",
      "metadata": {
        "id": "P5b5pS8QOtHw"
      },
      "source": [
        "# Program 5 - Currency Conversion\n",
        "def Pound_Dollar():\n",
        "  Pound = int(input(\"Enter Pounds \"))\n",
        "  Dollar = Pound * 1.38\n",
        "  print(Dollar)\n",
        "\n",
        "def Dollar_Pound():\n",
        "  Dollar = int(input(\"Enter Dollars \"))\n",
        "  Pound = Dollar * 0.73\n",
        "  print(Pound)\n",
        "  \n",
        "\n",
        "def Pound_Yen():\n",
        "  Pound = int(input(\"Enter Pounds \"))\n",
        "  Yen = Pound * 153.61\n",
        "  print(Yen)\n",
        "  \n",
        "  \n",
        "def main():\n",
        "  print(\"Enter 1 if you would like to convert Pounds to Dollars \")\n",
        "  print(\"Enter 2 if you would like to convert Dollars to Pounds \")\n",
        "  print(\"Enter 3 if you would like to convert Pounds to Yen \")\n",
        "  Answer = input(\"Enter Number \")\n",
        "  if Answer == \"1\":\n",
        "    Pound_Dollar()\n",
        "  elif Answer == \"2\":\n",
        "    Dollar_Pound()\n",
        "  elif Answer == \"3\":\n",
        "    Pound_Yen()\n",
        "  else:\n",
        "    print(\"Invalid Answer\")\n",
        "\n",
        "\n",
        "\n",
        "\n"
      ],
      "execution_count": null,
      "outputs": []
    },
    {
      "cell_type": "code",
      "metadata": {
        "colab": {
          "base_uri": "https://localhost:8080/"
        },
        "id": "NxZcql9vz6jd",
        "outputId": "4b850a45-f067-4e14-f482-5efa5f94a113"
      },
      "source": [
        "main()"
      ],
      "execution_count": null,
      "outputs": [
        {
          "output_type": "stream",
          "text": [
            "Enter 1 if you would like to convert Pounds to Dollars \n",
            "Enter 2 if you would like to convert Dollars to Pounds \n",
            "Enter 3 if you would like to convert Pounds to Yen \n",
            "Enter Number 1\n",
            "Enter Pounds 10\n",
            "13.799999999999999\n"
          ],
          "name": "stdout"
        }
      ]
    },
    {
      "cell_type": "markdown",
      "metadata": {
        "id": "J9boVejo2XV4"
      },
      "source": [
        "**Question 4**\n",
        "<br>*Now insert a couple of other currency conversions of your choice*"
      ]
    },
    {
      "cell_type": "code",
      "metadata": {
        "id": "D-zfb9VDQXDS"
      },
      "source": [
        "#Insert Code"
      ],
      "execution_count": null,
      "outputs": []
    }
  ]
}