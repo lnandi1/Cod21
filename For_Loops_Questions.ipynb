{
  "nbformat": 4,
  "nbformat_minor": 0,
  "metadata": {
    "colab": {
      "name": "For_Loops.ipynb",
      "provenance": [],
      "collapsed_sections": [],
      "include_colab_link": true
    },
    "kernelspec": {
      "name": "python3",
      "display_name": "Python 3"
    },
    "language_info": {
      "name": "python"
    }
  },
  "cells": [
    {
      "cell_type": "markdown",
      "metadata": {
        "id": "view-in-github",
        "colab_type": "text"
      },
      "source": [
        "<a href=\"https://colab.research.google.com/github/lnandi1/Cod21/blob/main/For_Loops_Questions.ipynb\" target=\"_parent\"><img src=\"https://colab.research.google.com/assets/colab-badge.svg\" alt=\"Open In Colab\"/></a>"
      ]
    },
    {
      "cell_type": "markdown",
      "metadata": {
        "id": "BRMPC9a7UpWW"
      },
      "source": [
        "### **Introduction**\n",
        "**We will study and write programs involving the FOR loop.\n",
        "<br> Please note the following about the FOR loop:-**\n",
        "\n",
        "\n",
        "1.   The FOR loop is a form of ITERATION\n",
        "2.   ITERATION means REPETITION or LOOPING.\n",
        "3.  The FOR loop demonstrates DEFINITE ITERATION.\n",
        "4.   Just for the sake of completeness - there are what is known as 3 Fundamental Programming constructs:-\n",
        " (i) ITERATION\n",
        " (ii) SELECTION\n",
        " (iii) SEQUENCE\n",
        "5.   The FOR loop is known as a COUNT-CONTROLLED loop.\n",
        "6.   We will look at the FOR loop in its primary form.\n",
        "7.   We will also look at the NESTED FOR loop.\n",
        "\n",
        "\n"
      ]
    },
    {
      "cell_type": "markdown",
      "metadata": {
        "id": "HDPUKMFuUdLM"
      },
      "source": [
        "**Question 1 - Study the Programs below and ensure you understand how they are working**"
      ]
    },
    {
      "cell_type": "code",
      "metadata": {
        "colab": {
          "base_uri": "https://localhost:8080/"
        },
        "id": "dKAarstzUeGf",
        "outputId": "1cf77037-0729-4e18-84b6-3b335159e3f2"
      },
      "source": [
        "# Program 1 - The FOR loop is an example of ITERATION or REPETITION\n",
        "# Python is a Zero-based Language\n",
        "for j in range(5):\n",
        "  print(j)"
      ],
      "execution_count": null,
      "outputs": [
        {
          "output_type": "stream",
          "text": [
            "0\n",
            "1\n",
            "2\n",
            "3\n",
            "4\n"
          ],
          "name": "stdout"
        }
      ]
    },
    {
      "cell_type": "code",
      "metadata": {
        "colab": {
          "base_uri": "https://localhost:8080/"
        },
        "id": "JqN9fJHVKc2z",
        "outputId": "53b00f54-10e4-4f3a-8125-c97d5bff8611"
      },
      "source": [
        "# Program 2\n",
        "for j in range(3):\n",
        "  print(j)"
      ],
      "execution_count": null,
      "outputs": [
        {
          "output_type": "stream",
          "text": [
            "0\n",
            "1\n",
            "2\n"
          ],
          "name": "stdout"
        }
      ]
    },
    {
      "cell_type": "markdown",
      "metadata": {
        "id": "AkBE7o-eneeo"
      },
      "source": [
        "**Question 2 - Write a Program which outputs the numbers 0 to 10**"
      ]
    },
    {
      "cell_type": "code",
      "metadata": {
        "id": "DM7gY_h3nvpS"
      },
      "source": [
        "# Write your Program Here"
      ],
      "execution_count": null,
      "outputs": []
    },
    {
      "cell_type": "markdown",
      "metadata": {
        "id": "S9mRGgQ3KKms"
      },
      "source": [
        "**Question 3 - Now Study the Programs below and ensure you understand how they are working**"
      ]
    },
    {
      "cell_type": "code",
      "metadata": {
        "colab": {
          "base_uri": "https://localhost:8080/"
        },
        "id": "2-2JVzv-Kiy4",
        "outputId": "1eaae8a6-6bf2-475a-b695-88a7f7f5e0b2"
      },
      "source": [
        "# Program 3\n",
        "for j in range(1,6):\n",
        "  print(j)"
      ],
      "execution_count": null,
      "outputs": [
        {
          "output_type": "stream",
          "text": [
            "1\n",
            "2\n",
            "3\n",
            "4\n",
            "5\n"
          ],
          "name": "stdout"
        }
      ]
    },
    {
      "cell_type": "code",
      "metadata": {
        "colab": {
          "base_uri": "https://localhost:8080/"
        },
        "id": "jGitIJSBKnNL",
        "outputId": "6e2a9e73-9fc9-4f5c-d4d3-64ebd9d97c27"
      },
      "source": [
        "# Program 4\n",
        "for j in range(1,4):\n",
        "  print(j)"
      ],
      "execution_count": null,
      "outputs": [
        {
          "output_type": "stream",
          "text": [
            "1\n",
            "2\n",
            "3\n"
          ],
          "name": "stdout"
        }
      ]
    },
    {
      "cell_type": "markdown",
      "metadata": {
        "id": "BSmShHP1n1e7"
      },
      "source": [
        "**Question 3 - Write a Program which outputs the numbers 2 -8**"
      ]
    },
    {
      "cell_type": "code",
      "metadata": {
        "id": "VjwhxoBKn587"
      },
      "source": [
        "# Write your program here"
      ],
      "execution_count": null,
      "outputs": []
    },
    {
      "cell_type": "markdown",
      "metadata": {
        "id": "bmnm9x8_KY5G"
      },
      "source": [
        "**Question 4 - Now Study the Program below and ensure you understand how it is working**"
      ]
    },
    {
      "cell_type": "code",
      "metadata": {
        "colab": {
          "base_uri": "https://localhost:8080/"
        },
        "id": "Z19OUxN3Ktdn",
        "outputId": "52d4b513-0eee-4907-d4e1-237f0d857097"
      },
      "source": [
        "# Program 5\n",
        "for j in range(1,10,2):\n",
        "  print(j)"
      ],
      "execution_count": null,
      "outputs": [
        {
          "output_type": "stream",
          "text": [
            "1\n",
            "3\n",
            "5\n",
            "7\n",
            "9\n"
          ],
          "name": "stdout"
        }
      ]
    },
    {
      "cell_type": "markdown",
      "metadata": {
        "id": "tdNkIiT3Km6x"
      },
      "source": [
        "**Question 5 - Now write a program which outputs the 1st five even numbers**"
      ]
    },
    {
      "cell_type": "markdown",
      "metadata": {
        "id": "mJupZPSzK_M9"
      },
      "source": [
        ""
      ]
    },
    {
      "cell_type": "code",
      "metadata": {
        "id": "sZ7Xg_qnP-8n"
      },
      "source": [
        "# Insert Code here"
      ],
      "execution_count": null,
      "outputs": []
    },
    {
      "cell_type": "markdown",
      "metadata": {
        "id": "vsJ1VW_cK0XE"
      },
      "source": [
        "**Question 6 - Study the Program below and ensure you understand how it works. You may need to trace it in order to understand it**"
      ]
    },
    {
      "cell_type": "code",
      "metadata": {
        "colab": {
          "base_uri": "https://localhost:8080/"
        },
        "id": "0nzjZxMXK41u",
        "outputId": "76f6e3f4-a751-405a-e426-987ea3538bf9"
      },
      "source": [
        "# Program 6\n",
        "for j in range(1,6):\n",
        "  Product = j * 10\n",
        "  print(j, \"* 10 = \",Product)"
      ],
      "execution_count": null,
      "outputs": [
        {
          "output_type": "stream",
          "text": [
            "1 * 10 =  10\n",
            "2 * 10 =  20\n",
            "3 * 10 =  30\n",
            "4 * 10 =  40\n",
            "5 * 10 =  50\n"
          ],
          "name": "stdout"
        }
      ]
    },
    {
      "cell_type": "markdown",
      "metadata": {
        "id": "h-SzEiVcLG7M"
      },
      "source": [
        ""
      ]
    },
    {
      "cell_type": "markdown",
      "metadata": {
        "id": "dzI5SOhJn_Ed"
      },
      "source": [
        "**Question 7 - Write a Program which outputs the 13 times table**"
      ]
    },
    {
      "cell_type": "code",
      "metadata": {
        "id": "5VKUwpqtoNag"
      },
      "source": [
        "# Write your Program here"
      ],
      "execution_count": null,
      "outputs": []
    },
    {
      "cell_type": "markdown",
      "metadata": {
        "id": "hsKLNZhuoQ7w"
      },
      "source": [
        "**Question 8 - Write a Program which outputs the first 10 square numbers**"
      ]
    },
    {
      "cell_type": "code",
      "metadata": {
        "id": "S0MyYrIko0XT"
      },
      "source": [
        "# Write your program here"
      ],
      "execution_count": null,
      "outputs": []
    },
    {
      "cell_type": "markdown",
      "metadata": {
        "id": "Va7uM_1CLMQB"
      },
      "source": [
        "**Question 9 - Below is a Program which outputs the sum of the numbers 1 to 10 i.e 1+2+3+4+5+6+7+8+9+10**\n",
        "**Please make sure you understand how it works. To understand how it works, you will most definitely need to trace it**"
      ]
    },
    {
      "cell_type": "code",
      "metadata": {
        "colab": {
          "base_uri": "https://localhost:8080/"
        },
        "id": "jRSzbDwnMwbT",
        "outputId": "9d25009e-c536-473e-b65a-fbc938dc3bd9"
      },
      "source": [
        "# Program 7 - Summing Numbers 1 to 10\n",
        "sum = 0\n",
        "for j in range(1,11):\n",
        "  sum = sum + j\n",
        "\n",
        "print(sum)"
      ],
      "execution_count": null,
      "outputs": [
        {
          "output_type": "stream",
          "text": [
            "55\n"
          ],
          "name": "stdout"
        }
      ]
    },
    {
      "cell_type": "markdown",
      "metadata": {
        "id": "aFtMK6w4pUyT"
      },
      "source": [
        "**Question 10 - Write a Program which sums the numbers 1 to a Million (1000,000)\n",
        "i.e 1+2+3+4+5+6+7+8+...+1000,000**"
      ]
    },
    {
      "cell_type": "code",
      "metadata": {
        "id": "H4MJLSbUpawX"
      },
      "source": [
        "# Write your Program here"
      ],
      "execution_count": null,
      "outputs": []
    },
    {
      "cell_type": "markdown",
      "metadata": {
        "id": "PcWNG3qZL3o5"
      },
      "source": [
        "**Question 11 - Below are Programs which calcualte and output the average of groups of numbers**\n",
        "**Please ensure you understand how these programs are working**\n",
        "**To understand them, you will need to trace the programs**"
      ]
    },
    {
      "cell_type": "code",
      "metadata": {
        "colab": {
          "base_uri": "https://localhost:8080/"
        },
        "id": "dn3-rYqPRr25",
        "outputId": "35d9acc5-e4ba-4355-f2fc-e8b3dfd294f3"
      },
      "source": [
        "# Program 8 - Calculating Sum and Average of Numbers\n",
        "sum = 0  # Here we are initializing the variable sum to zero.\n",
        "for j in range(1,4):\n",
        "  Number = int(input(\"Enter a number \"))\n",
        "  sum = sum + Number\n",
        "Average = sum/3\n",
        "print(round(Average,2))"
      ],
      "execution_count": null,
      "outputs": [
        {
          "output_type": "stream",
          "text": [
            "Enter a number 4\n",
            "Enter a number 3\n",
            "Enter a number 6\n",
            "4.33\n"
          ],
          "name": "stdout"
        }
      ]
    },
    {
      "cell_type": "code",
      "metadata": {
        "id": "1d1MF6tcSS7-",
        "colab": {
          "base_uri": "https://localhost:8080/"
        },
        "outputId": "6651ac86-a5d3-4743-ca4d-9398bafe616b"
      },
      "source": [
        "# Program 9\n",
        "Total_Score = 0 # We initialize this to zero\\\n",
        "for j in range(3):\n",
        "  Score = int(input(\"Enter the Score \"))\n",
        "  Total_Score = Total_Score + Score\n",
        "Average_Score = Total_Score/3\n",
        "print(\"Total_Score \",Total_Score)\n",
        "print(\"Average_Score \",Average_Score)\n"
      ],
      "execution_count": null,
      "outputs": [
        {
          "output_type": "stream",
          "text": [
            "Enter the Score 55\n",
            "Enter the Score 75\n",
            "Enter the Score 20\n",
            "Total_Score  150\n",
            "Average_Score  50.0\n"
          ],
          "name": "stdout"
        }
      ]
    },
    {
      "cell_type": "markdown",
      "metadata": {
        "id": "l1VvMZXVqDg1"
      },
      "source": [
        "**Question 12 - Write a Program which allows you to choose how many numbers you will input and output the sum and average of those numbers**\n",
        "\n",
        "\n",
        "\n",
        "\n"
      ]
    },
    {
      "cell_type": "code",
      "metadata": {
        "id": "kQzvYG-QMSbA"
      },
      "source": [
        "# Insert Code Here"
      ],
      "execution_count": null,
      "outputs": []
    },
    {
      "cell_type": "code",
      "metadata": {
        "id": "erHBLbIOqXyz",
        "colab": {
          "base_uri": "https://localhost:8080/"
        },
        "outputId": "d14342fe-f39d-499f-94df-00b2c5e00743"
      },
      "source": [
        "# Program 10 \n",
        "# Here is a solution to the Question 12!\n",
        "Total_score = 0\n",
        "x =int(input(\"enter how many numbers do you want to deal with? \"))\n",
        "for j in range(x):\n",
        "  Score = int(input(\"enter a score \"))\n",
        "  Total_score = Total_score + Score \n",
        "Average_score = Total_score/x\n",
        "print(\"Total score\", Total_score)\n",
        "print(\"Averge score\", Average_score) \n"
      ],
      "execution_count": null,
      "outputs": [
        {
          "output_type": "stream",
          "text": [
            "enter how many numbers do you want to deal with? 2\n",
            "enter a score 3\n",
            "enter a score 4\n",
            "Total score 7\n",
            "Sverge score 3.5\n"
          ],
          "name": "stdout"
        }
      ]
    },
    {
      "cell_type": "code",
      "metadata": {
        "id": "HHuRT1usUtxz",
        "colab": {
          "base_uri": "https://localhost:8080/"
        },
        "outputId": "4da2142a-e585-4706-e1e1-8182aca1dd7a"
      },
      "source": [
        "# Program 9 - Outputting Even Numbers \n",
        "for j in range(1,10):\n",
        "  if j%2==0:\n",
        "    print(j, \" is even\")\n",
        "\n"
      ],
      "execution_count": null,
      "outputs": [
        {
          "output_type": "stream",
          "text": [
            "2  is even\n",
            "4  is even\n",
            "6  is even\n",
            "8  is even\n"
          ],
          "name": "stdout"
        }
      ]
    },
    {
      "cell_type": "markdown",
      "metadata": {
        "id": "kvtb96Ouqgx4"
      },
      "source": [
        "**Question 13 - Write a Program which will tells you if the numbers between 1 and 10 are odd or even**"
      ]
    },
    {
      "cell_type": "code",
      "metadata": {
        "id": "uHC3Frs6NGmx"
      },
      "source": [
        "# Insert Code Here"
      ],
      "execution_count": null,
      "outputs": []
    },
    {
      "cell_type": "code",
      "metadata": {
        "id": "BQ-6V4BbqxhK"
      },
      "source": [
        "# Program 10\n",
        "# Here is a solution to the Question 13\n",
        "for j in range (1,10):\n",
        "  if j%2==1:\n",
        "   print(j, \"is odd\")\n",
        "  else:\n",
        "    print(j, \" is even\")"
      ],
      "execution_count": null,
      "outputs": []
    },
    {
      "cell_type": "markdown",
      "metadata": {
        "id": "JmdVwuYrI3y2"
      },
      "source": [
        "**Question 14 - Work  out how the above program is working?**\n",
        "**You will need to trace the program to work out how it is working**"
      ]
    },
    {
      "cell_type": "code",
      "metadata": {
        "colab": {
          "base_uri": "https://localhost:8080/"
        },
        "id": "POu6C-84q8vr",
        "outputId": "986cdcc8-125b-476f-abf9-ff5f06ff0843"
      },
      "source": [
        "# Program 10 - Nested For loop\n",
        "for j in range(1,5): #OUTER for loop\n",
        "  print()\n",
        "  for k in range(6,10): #INNER for loop\n",
        "    print(\"j = \", j, \" k = \", k)\n",
        "    "
      ],
      "execution_count": null,
      "outputs": [
        {
          "output_type": "stream",
          "text": [
            "\n",
            "j =  1  k =  6\n",
            "j =  1  k =  7\n",
            "j =  1  k =  8\n",
            "j =  1  k =  9\n",
            "\n",
            "j =  2  k =  6\n",
            "j =  2  k =  7\n",
            "j =  2  k =  8\n",
            "j =  2  k =  9\n",
            "\n",
            "j =  3  k =  6\n",
            "j =  3  k =  7\n",
            "j =  3  k =  8\n",
            "j =  3  k =  9\n",
            "\n",
            "j =  4  k =  6\n",
            "j =  4  k =  7\n",
            "j =  4  k =  8\n",
            "j =  4  k =  9\n"
          ],
          "name": "stdout"
        }
      ]
    },
    {
      "cell_type": "markdown",
      "metadata": {
        "id": "rQx-iJBOsJvo"
      },
      "source": [
        "**Question 15 - Now write a similar program to this yourself**"
      ]
    },
    {
      "cell_type": "code",
      "metadata": {
        "id": "gqARhBaGsOy5"
      },
      "source": [
        "#  Insert Program \n"
      ],
      "execution_count": null,
      "outputs": []
    },
    {
      "cell_type": "markdown",
      "metadata": {
        "id": "tL1VpUdNJb71"
      },
      "source": [
        "**Question 16 - Work out how the program below is working**\n",
        "**You will need to trace the program in order to work out how it is working**"
      ]
    },
    {
      "cell_type": "code",
      "metadata": {
        "colab": {
          "base_uri": "https://localhost:8080/"
        },
        "id": "XfuitD8grUJd",
        "outputId": "76c492dc-8c20-4321-fe82-73dc51612b09"
      },
      "source": [
        "# Program 11 - The Factors of a Number\n",
        "X = int(input(\"Enter a number\"))\n",
        "for j in range(1,X):\n",
        "  if X%j ==0:\n",
        "    print(j)"
      ],
      "execution_count": null,
      "outputs": [
        {
          "output_type": "stream",
          "text": [
            "Enter a number20\n",
            "1\n",
            "2\n",
            "4\n",
            "5\n",
            "10\n"
          ],
          "name": "stdout"
        }
      ]
    },
    {
      "cell_type": "markdown",
      "metadata": {
        "id": "GLrSRWzRr9K7"
      },
      "source": [
        "**Question 17 - Run the Program below and just marvel at the output!**"
      ]
    },
    {
      "cell_type": "code",
      "metadata": {
        "colab": {
          "base_uri": "https://localhost:8080/"
        },
        "id": "_LLj9Kr7lB1A",
        "outputId": "2021195b-0607-4ab1-e190-16ca14d974af"
      },
      "source": [
        "# Program 12\n",
        "# Display a Multiplication Table\n",
        "MIN = 1\n",
        "MAX = 10\n",
        "\n",
        "# Display the top row of labels\n",
        "print(\"    \", end = \"\")\n",
        "\n",
        "for j in range(MIN, MAX+1):\n",
        "  print( \"%4d\" %j, end=\"\")\n",
        "print()\n",
        "\n",
        "# Display the table\n",
        "\n",
        "for j in range(MIN, MAX+1):\n",
        "  print(\"%4d\" %j, end = \"\")\n",
        "  for k in range(MIN, MAX+1):\n",
        "      print(\"%4d\" %(j*k),end=\"\")\n",
        "  print()\n"
      ],
      "execution_count": null,
      "outputs": [
        {
          "output_type": "stream",
          "text": [
            "       1   2   3   4   5   6   7   8   9  10\n",
            "   1   1   2   3   4   5   6   7   8   9  10\n",
            "   2   2   4   6   8  10  12  14  16  18  20\n",
            "   3   3   6   9  12  15  18  21  24  27  30\n",
            "   4   4   8  12  16  20  24  28  32  36  40\n",
            "   5   5  10  15  20  25  30  35  40  45  50\n",
            "   6   6  12  18  24  30  36  42  48  54  60\n",
            "   7   7  14  21  28  35  42  49  56  63  70\n",
            "   8   8  16  24  32  40  48  56  64  72  80\n",
            "   9   9  18  27  36  45  54  63  72  81  90\n",
            "  10  10  20  30  40  50  60  70  80  90 100\n"
          ],
          "name": "stdout"
        }
      ]
    }
  ]
}