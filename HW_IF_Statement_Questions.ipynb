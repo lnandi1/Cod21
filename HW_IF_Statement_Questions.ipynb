{
  "nbformat": 4,
  "nbformat_minor": 0,
  "metadata": {
    "colab": {
      "name": "HW_IF_Statement_Questions.ipynb",
      "provenance": [],
      "authorship_tag": "ABX9TyM9DtJfPJAIG5jKGgzGZN7Y",
      "include_colab_link": true
    },
    "kernelspec": {
      "name": "python3",
      "display_name": "Python 3"
    },
    "language_info": {
      "name": "python"
    }
  },
  "cells": [
    {
      "cell_type": "markdown",
      "metadata": {
        "id": "view-in-github",
        "colab_type": "text"
      },
      "source": [
        "<a href=\"https://colab.research.google.com/github/lnandi1/Cod21/blob/main/HW_IF_Statement_Questions.ipynb\" target=\"_parent\"><img src=\"https://colab.research.google.com/assets/colab-badge.svg\" alt=\"Open In Colab\"/></a>"
      ]
    },
    {
      "cell_type": "markdown",
      "metadata": {
        "id": "ZEKoJN81tXUb"
      },
      "source": [
        "**Introduction - Try these exercises involving the IF statement**\n",
        "\n",
        "\n",
        "<br><b>We will look at Python Programs involving the IF statement\n",
        "\n",
        "\n",
        "1.   The IF statement is a form of SELECTION\n",
        "2.   SELECTION is known as a form of PROGRAMMIMG CONSTRUCT\n",
        "3.  Just for the sake of completeness, we will mention here that there are 3 forms of PROGRAMMING CONSTRUCTS.these are known as SEQUENCE, ITERATION and SELECTION\n",
        "4.  We will look at ITERATION and SEQUENCE later\n",
        "5. Here we look at the IF statement in its Primary Form and the NESTED IF statement.\n",
        "\n",
        "\n",
        "<br>When looking at programs involving the IF statement, we shall come across Relational Operators. The common ones are:-\n",
        "\n",
        "\n",
        "1.   Less than (<)\n",
        "2.   Less than or Equal to (<=)\n",
        "3.   Greater than (>)\n",
        "4.   Greater than or Equal to (>=)\n",
        "5.   Equality Operator which means is it equal to (==) \n",
        "6.   Not equal to (!= OR <>)\n",
        "\n",
        "<br><b> We also look at the difference between the  equality operator which is a double equal sign '==' and not a single equal sign '='</b>\n",
        "\n"
      ]
    },
    {
      "cell_type": "markdown",
      "metadata": {
        "id": "L4hFrUgktyyl"
      },
      "source": [
        "**Exercise 1 - Odd or Even**\n",
        "<br>*Write a Program which asks the user for an integer and then reports on whether the number is odd or even*"
      ]
    },
    {
      "cell_type": "code",
      "metadata": {
        "id": "G4ZjFmd3uD4c"
      },
      "source": [
        "# Insert Code Here"
      ],
      "execution_count": null,
      "outputs": []
    },
    {
      "cell_type": "markdown",
      "metadata": {
        "id": "PQAvQyEquGxF"
      },
      "source": [
        "**Exercise 2 - Name that Shape**\n",
        "<br>Write a Program which determines the name of a shape from its number of sides.\n",
        "<br><br>Ask the user to input the number of sides and display the shape name. So:-\n",
        "\n",
        "\n",
        "\n",
        "1.   3 means it is a Triangle\n",
        "2.   4 means it is a Square or Rectangle or Rombus\n",
        "3.   5 means it is a Pentagon\n",
        "4.   6 means it is a Hexagon\n",
        "\n",
        "<br> Allow the program to support between 3 and 6 sides\n",
        "<br> If the number of sides outside this range is entered then the program should display an appropriate error message.\n",
        "\n",
        "\n"
      ]
    },
    {
      "cell_type": "code",
      "metadata": {
        "id": "SV5eHmmfvpCq"
      },
      "source": [
        "# Insert Code Here"
      ],
      "execution_count": null,
      "outputs": []
    },
    {
      "cell_type": "markdown",
      "metadata": {
        "id": "ajuoV1Nav2QJ"
      },
      "source": [
        "**Exercise 3 - Name that Triangle**\n",
        "<br>A triangle can be classified based on the length of its sides. So for example:-\n",
        "\n",
        "\n",
        "1.   An Equilateral Triangle is when all the 3 sides are equal.\n",
        "2.   An Isocelos Triangle is when 2 sides of the triangle are equal.\n",
        "3.   A Scalene Triangle is when the 3 sides of a triangle are all different.\n",
        "<br><br> Write a program which asks the user to input the lengths of 3 sides of a triangle and then displays a message indicating the type of the triangle.\n",
        "\n"
      ]
    },
    {
      "cell_type": "code",
      "metadata": {
        "id": "w5SlvZQ5xKPE"
      },
      "source": [
        "# Insert Code Here"
      ],
      "execution_count": null,
      "outputs": []
    },
    {
      "cell_type": "markdown",
      "metadata": {
        "id": "ZkkPsq6mxMLg"
      },
      "source": [
        "**Exercise 4 - Cinema Tickets Bill**\n",
        "<br> A cinema charges:-\n",
        "\n",
        "\n",
        "1.   £6.00 for young people aged 12 or under.\n",
        "2.   £10.00 for young people aged 12 to 17.\n",
        "3.   £15.00 for adults - i.e. those over the age of 18.\n",
        "\n",
        "<br>A group of people of different ages go to the cinema on a school trip. \n",
        "<br><br>Write a Program which asks the user to input the numbers of different types of people going on a cinema trip and display the total.\n",
        "\n",
        "\n",
        "\n",
        "\n",
        "\n",
        "\n"
      ]
    },
    {
      "cell_type": "code",
      "metadata": {
        "id": "Xo4V0uQxzFzF"
      },
      "source": [
        "# Insert Code Here"
      ],
      "execution_count": null,
      "outputs": []
    },
    {
      "cell_type": "markdown",
      "metadata": {
        "id": "-kyDpamWzLaA"
      },
      "source": [
        "**Exercise 5 - Is it a Leap Year?**\n",
        " <br>Most years have 365 days. But some years have 366 days and these are known as leap years.\n",
        " <br><br>These are the rules to determine whether or not a year is a leap year:-\n",
        "\n",
        "\n",
        "1.   Any year that is divisible by 400 is a leap year.\n",
        "2.   Of the remaining years, any year that is divisible by 100 is **not** a leap year.\n",
        "3.   Of the remaining years, any year that is divisible by 4 is a leap year.\n",
        "4.   All other years are **not** leap years.\n",
        "\n",
        "<br>Write a Program that asks the user to input a year and displays a message saying whether or not it is a leap year.\n",
        "\n",
        "\n",
        " \n",
        " \n",
        " \n",
        "<br>Please not that this may requires a bit more thought and time than all of the other exercises."
      ]
    },
    {
      "cell_type": "code",
      "metadata": {
        "id": "P3eBwlnI0l0C"
      },
      "source": [
        "#Insert Code Here"
      ],
      "execution_count": null,
      "outputs": []
    }
  ]
}