{
  "nbformat": 4,
  "nbformat_minor": 0,
  "metadata": {
    "colab": {
      "name": "For_Loops_Answers.ipynb",
      "provenance": [],
      "collapsed_sections": [],
      "include_colab_link": true
    },
    "kernelspec": {
      "name": "python3",
      "display_name": "Python 3"
    },
    "language_info": {
      "name": "python"
    }
  },
  "cells": [
    {
      "cell_type": "markdown",
      "metadata": {
        "id": "view-in-github",
        "colab_type": "text"
      },
      "source": [
        "<a href=\"https://colab.research.google.com/github/lnandi1/Cod21/blob/main/For_Loops_Answers.ipynb\" target=\"_parent\"><img src=\"https://colab.research.google.com/assets/colab-badge.svg\" alt=\"Open In Colab\"/></a>"
      ]
    },
    {
      "cell_type": "markdown",
      "metadata": {
        "id": "BRMPC9a7UpWW"
      },
      "source": [
        "### **Introduction**\n",
        "**We will study the worked examples and answers to the programs involving the FOR loop. <br> Please note the following about the FOR loop:-**\n",
        "\n",
        "\n",
        "1.   The FOR loop is a form of ITERATION\n",
        "2.   ITERATION means REPETITION or LOOPING.\n",
        "3.  The FOR loop demonstrates DEFINITE ITERATION.\n",
        "4.   Just for the sake of completeness - there are what is known as 3 Fundamental Programming constructs:-\n",
        " (i) ITERATION\n",
        " (ii) SELECTION\n",
        " (iii) SEQUENCE\n",
        "5.   The FOR loop is known as a COUNT-CONTROLLED loop.\n",
        "6.   We will look at the FOR loop in its primary form.\n",
        "7.   We will also look at the NESTED FOR loop."
      ]
    },
    {
      "cell_type": "markdown",
      "metadata": {
        "id": "HDPUKMFuUdLM"
      },
      "source": [
        "**Question 1 - Study the Programs below and ensure you understand how they are working**"
      ]
    },
    {
      "cell_type": "code",
      "metadata": {
        "colab": {
          "base_uri": "https://localhost:8080/"
        },
        "id": "dKAarstzUeGf",
        "outputId": "980d5535-eabb-4539-edb2-7e43b16067cc"
      },
      "source": [
        "# Program 1 - The FOR loop is an example of ITERATION or REPETITION\n",
        "# Python is a Zero-based Language\n",
        "for j in range(5):\n",
        "  print(j)"
      ],
      "execution_count": null,
      "outputs": [
        {
          "output_type": "stream",
          "text": [
            "0\n",
            "1\n",
            "2\n",
            "3\n",
            "4\n"
          ],
          "name": "stdout"
        }
      ]
    },
    {
      "cell_type": "code",
      "metadata": {
        "colab": {
          "base_uri": "https://localhost:8080/"
        },
        "id": "JqN9fJHVKc2z",
        "outputId": "53b00f54-10e4-4f3a-8125-c97d5bff8611"
      },
      "source": [
        "# Program 2\n",
        "for j in range(3):\n",
        "  print(j)"
      ],
      "execution_count": null,
      "outputs": [
        {
          "output_type": "stream",
          "text": [
            "0\n",
            "1\n",
            "2\n"
          ],
          "name": "stdout"
        }
      ]
    },
    {
      "cell_type": "markdown",
      "metadata": {
        "id": "AkBE7o-eneeo"
      },
      "source": [
        "**Question 2 - Write a Program which outputs the numbers 0 to 10**"
      ]
    },
    {
      "cell_type": "code",
      "metadata": {
        "id": "DM7gY_h3nvpS",
        "colab": {
          "base_uri": "https://localhost:8080/"
        },
        "outputId": "68771681-4c50-48c9-feae-a811d5b38b62"
      },
      "source": [
        "# Write your Program Here\n",
        "# Question 2\n",
        "for j in range(11):\n",
        "  print(j)"
      ],
      "execution_count": null,
      "outputs": [
        {
          "output_type": "stream",
          "text": [
            "0\n",
            "1\n",
            "2\n",
            "3\n",
            "4\n",
            "5\n",
            "6\n",
            "7\n",
            "8\n",
            "9\n",
            "10\n"
          ],
          "name": "stdout"
        }
      ]
    },
    {
      "cell_type": "markdown",
      "metadata": {
        "id": "S9mRGgQ3KKms"
      },
      "source": [
        "**Question 3 - Now Study the Programs below and ensure you understand how they are working**"
      ]
    },
    {
      "cell_type": "code",
      "metadata": {
        "colab": {
          "base_uri": "https://localhost:8080/"
        },
        "id": "2-2JVzv-Kiy4",
        "outputId": "34b0768f-bbbc-4a35-d3f3-a3b184185229"
      },
      "source": [
        "# Program 3\n",
        "for j in range(1,6):\n",
        "  print(j)"
      ],
      "execution_count": null,
      "outputs": [
        {
          "output_type": "stream",
          "text": [
            "1\n",
            "2\n",
            "3\n",
            "4\n",
            "5\n"
          ],
          "name": "stdout"
        }
      ]
    },
    {
      "cell_type": "code",
      "metadata": {
        "colab": {
          "base_uri": "https://localhost:8080/"
        },
        "id": "jGitIJSBKnNL",
        "outputId": "6e2a9e73-9fc9-4f5c-d4d3-64ebd9d97c27"
      },
      "source": [
        "# Program 4\n",
        "for j in range(1,4):\n",
        "  print(j)"
      ],
      "execution_count": null,
      "outputs": [
        {
          "output_type": "stream",
          "text": [
            "1\n",
            "2\n",
            "3\n"
          ],
          "name": "stdout"
        }
      ]
    },
    {
      "cell_type": "markdown",
      "metadata": {
        "id": "BSmShHP1n1e7"
      },
      "source": [
        "**Question 3 - Write a Program which outputs the numbers 2 -8**"
      ]
    },
    {
      "cell_type": "code",
      "metadata": {
        "id": "VjwhxoBKn587",
        "colab": {
          "base_uri": "https://localhost:8080/"
        },
        "outputId": "a14bceb4-44e0-4a86-f48e-3d0ca51c4046"
      },
      "source": [
        "# Write your program here\n",
        "# Question 3\n",
        "for j in range(2,9):\n",
        "  print(j)"
      ],
      "execution_count": null,
      "outputs": [
        {
          "output_type": "stream",
          "text": [
            "2\n",
            "3\n",
            "4\n",
            "5\n",
            "6\n",
            "7\n",
            "8\n"
          ],
          "name": "stdout"
        }
      ]
    },
    {
      "cell_type": "markdown",
      "metadata": {
        "id": "bmnm9x8_KY5G"
      },
      "source": [
        "**Question 4 - Now Study the Program below and ensure you understand how it is working**"
      ]
    },
    {
      "cell_type": "code",
      "metadata": {
        "colab": {
          "base_uri": "https://localhost:8080/"
        },
        "id": "Z19OUxN3Ktdn",
        "outputId": "51f82af2-e9fe-4b0f-e895-225a4aca5efb"
      },
      "source": [
        "# Program 5\n",
        "for j in range(1,10,2):\n",
        "  print(j)"
      ],
      "execution_count": null,
      "outputs": [
        {
          "output_type": "stream",
          "text": [
            "1\n",
            "3\n",
            "5\n",
            "7\n",
            "9\n"
          ],
          "name": "stdout"
        }
      ]
    },
    {
      "cell_type": "markdown",
      "metadata": {
        "id": "tdNkIiT3Km6x"
      },
      "source": [
        "**Question 5 - Now write a program which outputs the 1st five even numbers**"
      ]
    },
    {
      "cell_type": "code",
      "metadata": {
        "id": "sZ7Xg_qnP-8n",
        "colab": {
          "base_uri": "https://localhost:8080/"
        },
        "outputId": "4eac6948-c8d8-4211-b9a6-3a3f2e048b3f"
      },
      "source": [
        "# Insert Code here\n",
        "# Question 5\n",
        "for j in range(0,10,2):\n",
        "  print(j)"
      ],
      "execution_count": null,
      "outputs": [
        {
          "output_type": "stream",
          "text": [
            "0\n",
            "2\n",
            "4\n",
            "6\n",
            "8\n"
          ],
          "name": "stdout"
        }
      ]
    },
    {
      "cell_type": "markdown",
      "metadata": {
        "id": "vsJ1VW_cK0XE"
      },
      "source": [
        "**Question 6 - Study the Program below and ensure you understand how it works. You may need to trace it in order to understand it**"
      ]
    },
    {
      "cell_type": "code",
      "metadata": {
        "colab": {
          "base_uri": "https://localhost:8080/"
        },
        "id": "0nzjZxMXK41u",
        "outputId": "76f6e3f4-a751-405a-e426-987ea3538bf9"
      },
      "source": [
        "# Program 6\n",
        "for j in range(1,6):\n",
        "  Product = j * 10\n",
        "  print(j, \"* 10 = \",Product)"
      ],
      "execution_count": null,
      "outputs": [
        {
          "output_type": "stream",
          "text": [
            "1 * 10 =  10\n",
            "2 * 10 =  20\n",
            "3 * 10 =  30\n",
            "4 * 10 =  40\n",
            "5 * 10 =  50\n"
          ],
          "name": "stdout"
        }
      ]
    },
    {
      "cell_type": "markdown",
      "metadata": {
        "id": "h-SzEiVcLG7M"
      },
      "source": [
        ""
      ]
    },
    {
      "cell_type": "markdown",
      "metadata": {
        "id": "dzI5SOhJn_Ed"
      },
      "source": [
        "**Question 7 - Write a Program which outputs the 13 times table**"
      ]
    },
    {
      "cell_type": "code",
      "metadata": {
        "id": "5VKUwpqtoNag",
        "colab": {
          "base_uri": "https://localhost:8080/"
        },
        "outputId": "ec32b830-e911-4c6f-818e-768b22e89bdf"
      },
      "source": [
        "# Write your Program here\\\n",
        "# Question 7\n",
        "# Program 6\n",
        "for j in range(1,11):\n",
        "  Product = j * 13\n",
        "  print(j, \"* 10 = \",Product)"
      ],
      "execution_count": null,
      "outputs": [
        {
          "output_type": "stream",
          "text": [
            "1 * 10 =  13\n",
            "2 * 10 =  26\n",
            "3 * 10 =  39\n",
            "4 * 10 =  52\n",
            "5 * 10 =  65\n",
            "6 * 10 =  78\n",
            "7 * 10 =  91\n",
            "8 * 10 =  104\n",
            "9 * 10 =  117\n",
            "10 * 10 =  130\n"
          ],
          "name": "stdout"
        }
      ]
    },
    {
      "cell_type": "markdown",
      "metadata": {
        "id": "hsKLNZhuoQ7w"
      },
      "source": [
        "**Question 8 - Write a Program which outputs the first 10 square numbers**"
      ]
    },
    {
      "cell_type": "code",
      "metadata": {
        "id": "S0MyYrIko0XT",
        "colab": {
          "base_uri": "https://localhost:8080/"
        },
        "outputId": "9dae44de-a1c0-4921-917d-091bbfa47a94"
      },
      "source": [
        "# Write your program here\n",
        "# Question 8\n",
        "for j in range(1,11):\n",
        "  Square = j **2\n",
        "  print(Square)"
      ],
      "execution_count": null,
      "outputs": [
        {
          "output_type": "stream",
          "text": [
            "1\n",
            "4\n",
            "9\n",
            "16\n",
            "25\n",
            "36\n",
            "49\n",
            "64\n",
            "81\n",
            "100\n"
          ],
          "name": "stdout"
        }
      ]
    },
    {
      "cell_type": "markdown",
      "metadata": {
        "id": "Va7uM_1CLMQB"
      },
      "source": [
        "**Question 9 - Below is a Program which outputs the sum of the numbers 1 to 10 i.e 1+2+3+4+5+6+7+8+9+10**\n",
        "**Please make sure you understand how it works. To understand how it works, you will most definitely need to trace it**"
      ]
    },
    {
      "cell_type": "code",
      "metadata": {
        "colab": {
          "base_uri": "https://localhost:8080/"
        },
        "id": "jRSzbDwnMwbT",
        "outputId": "cc0f27be-42cd-4f81-d1fe-db8417cb39d7"
      },
      "source": [
        "# Program 7 - Summing Numbers 1 to 10\n",
        "sum = 0\n",
        "for j in range(1,11):\n",
        "  sum = sum + j\n",
        "\n",
        "print(sum)"
      ],
      "execution_count": null,
      "outputs": [
        {
          "output_type": "stream",
          "text": [
            "55\n"
          ],
          "name": "stdout"
        }
      ]
    },
    {
      "cell_type": "markdown",
      "metadata": {
        "id": "aFtMK6w4pUyT"
      },
      "source": [
        "**Question 10 - Write a Program which sums the numbers 1 to a Million (1000,000) i.e. 1+2+3+4+5+6+...+1000,000**"
      ]
    },
    {
      "cell_type": "code",
      "metadata": {
        "id": "H4MJLSbUpawX"
      },
      "source": [
        "# Write your Program here\n"
      ],
      "execution_count": null,
      "outputs": []
    },
    {
      "cell_type": "markdown",
      "metadata": {
        "id": "PcWNG3qZL3o5"
      },
      "source": [
        "**Question 11 - Below are Programs which calcualte and output the average of groups of numbers**\n",
        "**Please ensure you understand how these programs are working**\n",
        "**To understand them, you will need to trace the programs**"
      ]
    },
    {
      "cell_type": "code",
      "metadata": {
        "colab": {
          "base_uri": "https://localhost:8080/"
        },
        "id": "dn3-rYqPRr25",
        "outputId": "35d9acc5-e4ba-4355-f2fc-e8b3dfd294f3"
      },
      "source": [
        "# Program 8 - Calculating Sum and Average of Numbers\n",
        "sum = 0  # Here we are initializing the variable sum to zero.\n",
        "for j in range(1,4):\n",
        "  Number = int(input(\"Enter a number \"))\n",
        "  sum = sum + Number\n",
        "Average = sum/3\n",
        "print(round(Average,2))"
      ],
      "execution_count": null,
      "outputs": [
        {
          "output_type": "stream",
          "text": [
            "Enter a number 4\n",
            "Enter a number 3\n",
            "Enter a number 6\n",
            "4.33\n"
          ],
          "name": "stdout"
        }
      ]
    },
    {
      "cell_type": "code",
      "metadata": {
        "id": "1d1MF6tcSS7-",
        "colab": {
          "base_uri": "https://localhost:8080/"
        },
        "outputId": "6651ac86-a5d3-4743-ca4d-9398bafe616b"
      },
      "source": [
        "# Program 9\n",
        "Total_Score = 0 # We initialize this to zero\\\n",
        "for j in range(3):\n",
        "  Score = int(input(\"Enter the Score \"))\n",
        "  Total_Score = Total_Score + Score\n",
        "Average_Score = Total_Score/3\n",
        "print(\"Total_Score \",Total_Score)\n",
        "print(\"Average_Score \",Average_Score)\n"
      ],
      "execution_count": null,
      "outputs": [
        {
          "output_type": "stream",
          "text": [
            "Enter the Score 55\n",
            "Enter the Score 75\n",
            "Enter the Score 20\n",
            "Total_Score  150\n",
            "Average_Score  50.0\n"
          ],
          "name": "stdout"
        }
      ]
    },
    {
      "cell_type": "markdown",
      "metadata": {
        "id": "l1VvMZXVqDg1"
      },
      "source": [
        "**Question 12 - Write a Program which allows you to choose how many numbers you will input and output the sum and average of those numbers**\n",
        "\n",
        "\n",
        "\n",
        "\n"
      ]
    },
    {
      "cell_type": "code",
      "metadata": {
        "id": "kQzvYG-QMSbA"
      },
      "source": [
        "# Insert Code Here\n",
        "# Question 12\n",
        "# Here is a solution to the Question 12!\n",
        "Total_score = 0\n",
        "x =int(input(\"enter how many numbers do you want to deal with? \"))\n",
        "for j in range(x):\n",
        "  Score = int(input(\"enter a score \"))\n",
        "  Total_score = Total_score + Score \n",
        "Average_score = Total_score/x\n",
        "print(\"Total score\", Total_score)\n",
        "print(\"Sverge score\", Average_score) \n"
      ],
      "execution_count": null,
      "outputs": []
    },
    {
      "cell_type": "code",
      "metadata": {
        "id": "erHBLbIOqXyz",
        "colab": {
          "base_uri": "https://localhost:8080/"
        },
        "outputId": "d14342fe-f39d-499f-94df-00b2c5e00743"
      },
      "source": [
        "# Program 10 \n",
        "# Here is a solution to the Question 12!\n",
        "Total_score = 0\n",
        "x =int(input(\"enter how many numbers do you want to deal with? \"))\n",
        "for j in range(x):\n",
        "  Score = int(input(\"enter a score \"))\n",
        "  Total_score = Total_score + Score \n",
        "Average_score = Total_score/x\n",
        "print(\"Total score\", Total_score)\n",
        "print(\"Sverge score\", Average_score) \n"
      ],
      "execution_count": null,
      "outputs": [
        {
          "output_type": "stream",
          "text": [
            "enter how many numbers do you want to deal with? 2\n",
            "enter a score 3\n",
            "enter a score 4\n",
            "Total score 7\n",
            "Sverge score 3.5\n"
          ],
          "name": "stdout"
        }
      ]
    },
    {
      "cell_type": "code",
      "metadata": {
        "id": "HHuRT1usUtxz",
        "colab": {
          "base_uri": "https://localhost:8080/"
        },
        "outputId": "4da2142a-e585-4706-e1e1-8182aca1dd7a"
      },
      "source": [
        "# Program 9 - Outputting Even Numbers \n",
        "for j in range(1,10):\n",
        "  if j%2==0:\n",
        "    print(j, \" is even\")\n",
        "\n"
      ],
      "execution_count": null,
      "outputs": [
        {
          "output_type": "stream",
          "text": [
            "2  is even\n",
            "4  is even\n",
            "6  is even\n",
            "8  is even\n"
          ],
          "name": "stdout"
        }
      ]
    },
    {
      "cell_type": "markdown",
      "metadata": {
        "id": "kvtb96Ouqgx4"
      },
      "source": [
        "**Question 13 - Write a Program which will tells you if the numbers between 1 and 10 are odd or even**"
      ]
    },
    {
      "cell_type": "code",
      "metadata": {
        "id": "uHC3Frs6NGmx",
        "colab": {
          "base_uri": "https://localhost:8080/"
        },
        "outputId": "dd772f3a-4534-446c-e478-cbc76edd9b49"
      },
      "source": [
        "# Insert Code Here\n",
        "# Question 13 - Answers\n",
        "# Here is a solution to the Question 13\n",
        "for j in range (1,10):\n",
        "  if j%2==1:\n",
        "   print(j, \"is odd\")\n",
        "  else:\n",
        "    print(j, \" is even\")"
      ],
      "execution_count": null,
      "outputs": [
        {
          "output_type": "stream",
          "text": [
            "1 is odd\n",
            "2  is even\n",
            "3 is odd\n",
            "4  is even\n",
            "5 is odd\n",
            "6  is even\n",
            "7 is odd\n",
            "8  is even\n",
            "9 is odd\n"
          ],
          "name": "stdout"
        }
      ]
    },
    {
      "cell_type": "code",
      "metadata": {
        "id": "BQ-6V4BbqxhK",
        "colab": {
          "base_uri": "https://localhost:8080/"
        },
        "outputId": "7891594c-1d4d-46bf-bad3-7f9ff07556ca"
      },
      "source": [
        "# Program 10\n",
        "# Here is a solution to the Question 13\n",
        "for j in range (1,10):\n",
        "  if j%2==1:\n",
        "   print(j, \"is odd\")\n",
        "  else:\n",
        "    print(j, \" is even\")"
      ],
      "execution_count": null,
      "outputs": [
        {
          "output_type": "stream",
          "text": [
            "1 is odd\n",
            "2  is even\n",
            "3 is odd\n",
            "4  is even\n",
            "5 is odd\n",
            "6  is even\n",
            "7 is odd\n",
            "8  is even\n",
            "9 is odd\n"
          ],
          "name": "stdout"
        }
      ]
    },
    {
      "cell_type": "markdown",
      "metadata": {
        "id": "JmdVwuYrI3y2"
      },
      "source": [
        "**Question 14 - Work  out how the above program is working?**\n",
        "**You will need to trace the program to work out how it is working**"
      ]
    },
    {
      "cell_type": "code",
      "metadata": {
        "colab": {
          "base_uri": "https://localhost:8080/"
        },
        "id": "POu6C-84q8vr",
        "outputId": "986cdcc8-125b-476f-abf9-ff5f06ff0843"
      },
      "source": [
        "# Program 10 - Nested For loop\n",
        "for j in range(1,5): #OUTER for loop\n",
        "  print()\n",
        "  for k in range(6,10): #INNER for loop\n",
        "    print(\"j = \", j, \" k = \", k)\n",
        "    "
      ],
      "execution_count": null,
      "outputs": [
        {
          "output_type": "stream",
          "text": [
            "\n",
            "j =  1  k =  6\n",
            "j =  1  k =  7\n",
            "j =  1  k =  8\n",
            "j =  1  k =  9\n",
            "\n",
            "j =  2  k =  6\n",
            "j =  2  k =  7\n",
            "j =  2  k =  8\n",
            "j =  2  k =  9\n",
            "\n",
            "j =  3  k =  6\n",
            "j =  3  k =  7\n",
            "j =  3  k =  8\n",
            "j =  3  k =  9\n",
            "\n",
            "j =  4  k =  6\n",
            "j =  4  k =  7\n",
            "j =  4  k =  8\n",
            "j =  4  k =  9\n"
          ],
          "name": "stdout"
        }
      ]
    },
    {
      "cell_type": "markdown",
      "metadata": {
        "id": "rQx-iJBOsJvo"
      },
      "source": [
        "**Question 15 - Now write a similar program to this yourself**"
      ]
    },
    {
      "cell_type": "code",
      "metadata": {
        "id": "gqARhBaGsOy5",
        "colab": {
          "base_uri": "https://localhost:8080/"
        },
        "outputId": "c43170dc-940d-4901-efab-b5ce5814ca0e"
      },
      "source": [
        "#  Insert Program \n",
        "# Question 15 - Nested For loop\n",
        "for j in range(100, 104): #OUTER for loop\n",
        "  print()\n",
        "  for k in range(200,203): #INNER for loop\n",
        "    print(\"j = \", j, \" k = \", k)\n",
        "    "
      ],
      "execution_count": null,
      "outputs": [
        {
          "output_type": "stream",
          "text": [
            "\n",
            "j =  100  k =  200\n",
            "j =  100  k =  201\n",
            "j =  100  k =  202\n",
            "\n",
            "j =  101  k =  200\n",
            "j =  101  k =  201\n",
            "j =  101  k =  202\n",
            "\n",
            "j =  102  k =  200\n",
            "j =  102  k =  201\n",
            "j =  102  k =  202\n",
            "\n",
            "j =  103  k =  200\n",
            "j =  103  k =  201\n",
            "j =  103  k =  202\n"
          ],
          "name": "stdout"
        }
      ]
    },
    {
      "cell_type": "markdown",
      "metadata": {
        "id": "tL1VpUdNJb71"
      },
      "source": [
        "**Question 16 - Work out how the program below is working**\n",
        "**You will need to trace the program in order to work out how it is working**"
      ]
    },
    {
      "cell_type": "code",
      "metadata": {
        "colab": {
          "base_uri": "https://localhost:8080/"
        },
        "id": "XfuitD8grUJd",
        "outputId": "76c492dc-8c20-4321-fe82-73dc51612b09"
      },
      "source": [
        "# Program 11 - The Factors of a Number\n",
        "X = int(input(\"Enter a number\"))\n",
        "for j in range(1,X):\n",
        "  if X%j ==0:\n",
        "    print(j)"
      ],
      "execution_count": null,
      "outputs": [
        {
          "output_type": "stream",
          "text": [
            "Enter a number20\n",
            "1\n",
            "2\n",
            "4\n",
            "5\n",
            "10\n"
          ],
          "name": "stdout"
        }
      ]
    },
    {
      "cell_type": "markdown",
      "metadata": {
        "id": "GLrSRWzRr9K7"
      },
      "source": [
        "**Question 17 - Run the Program below and just marvel at the output!**"
      ]
    },
    {
      "cell_type": "code",
      "metadata": {
        "colab": {
          "base_uri": "https://localhost:8080/"
        },
        "id": "_LLj9Kr7lB1A",
        "outputId": "2021195b-0607-4ab1-e190-16ca14d974af"
      },
      "source": [
        "# Program 12\n",
        "# Display a Multiplication Table\n",
        "MIN = 1\n",
        "MAX = 10\n",
        "\n",
        "# Display the top row of labels\n",
        "print(\"    \", end = \"\")\n",
        "\n",
        "for j in range(MIN, MAX+1):\n",
        "  print( \"%4d\" %j, end=\"\")\n",
        "print()\n",
        "\n",
        "# Display the table\n",
        "\n",
        "for j in range(MIN, MAX+1):\n",
        "  print(\"%4d\" %j, end = \"\")\n",
        "  for k in range(MIN, MAX+1):\n",
        "      print(\"%4d\" %(j*k),end=\"\")\n",
        "  print()\n"
      ],
      "execution_count": null,
      "outputs": [
        {
          "output_type": "stream",
          "text": [
            "       1   2   3   4   5   6   7   8   9  10\n",
            "   1   1   2   3   4   5   6   7   8   9  10\n",
            "   2   2   4   6   8  10  12  14  16  18  20\n",
            "   3   3   6   9  12  15  18  21  24  27  30\n",
            "   4   4   8  12  16  20  24  28  32  36  40\n",
            "   5   5  10  15  20  25  30  35  40  45  50\n",
            "   6   6  12  18  24  30  36  42  48  54  60\n",
            "   7   7  14  21  28  35  42  49  56  63  70\n",
            "   8   8  16  24  32  40  48  56  64  72  80\n",
            "   9   9  18  27  36  45  54  63  72  81  90\n",
            "  10  10  20  30  40  50  60  70  80  90 100\n"
          ],
          "name": "stdout"
        }
      ]
    }
  ]
}