{
  "nbformat": 4,
  "nbformat_minor": 0,
  "metadata": {
    "colab": {
      "name": "HW_Input_Output_Arithmetic_Operators.ipynb",
      "provenance": [],
      "collapsed_sections": [],
      "authorship_tag": "ABX9TyOS6YXF9J3sXWUpLpHpmCjC",
      "include_colab_link": true
    },
    "kernelspec": {
      "name": "python3",
      "display_name": "Python 3"
    },
    "language_info": {
      "name": "python"
    }
  },
  "cells": [
    {
      "cell_type": "markdown",
      "metadata": {
        "id": "view-in-github",
        "colab_type": "text"
      },
      "source": [
        "<a href=\"https://colab.research.google.com/github/lnandi1/Cod21/blob/main/HW_Input_Output_Arithmetic_Operators.ipynb\" target=\"_parent\"><img src=\"https://colab.research.google.com/assets/colab-badge.svg\" alt=\"Open In Colab\"/></a>"
      ]
    },
    {
      "cell_type": "markdown",
      "metadata": {
        "id": "7zBMU-6UA1iv"
      },
      "source": [
        "**<h1>Python Programming/Coding Exercises Involving Arithmetic Operators and Input and Output</h1>**\n",
        "<b><br><b> Below are a set of interesting and educational standard and real-life type Programs to write involve making use of the Input and Output Commands and the Commonly Used Arithmetic Operators:-\n",
        "\n",
        "1.   Addition (+)\n",
        "2.   Subtraction (-)\n",
        "3.   Multiplication (*)\n",
        "4.   Division (/)\n",
        "5.   Modulus (%)\n",
        "6.   Integer Division (//)\n",
        "7.   Exponent (**)\n",
        "\n",
        "<br> These are fundamental components in coding and it is important that you learn to become comfortable using them</b>\n",
        "<br><b> We also touch on, in these programs, the concepts of:-\n",
        "\n",
        "\n",
        "1.   Datatypes\n",
        "2.   Casting - defined as converting from one datatype to another</b>\n",
        "\n",
        "\n"
      ]
    },
    {
      "cell_type": "markdown",
      "metadata": {
        "id": "cbIb975mA4xr"
      },
      "source": [
        "**<br>Exercise 1 - Hello**\n",
        "<br><i>Write a Program which asks the user to enter his or her name. The program should respond with a message saying hello to the user, using is or her name\n",
        "<br><br>So, if the user enters \"Jane\" - the output is \"Hello Jane\"<i>"
      ]
    },
    {
      "cell_type": "code",
      "metadata": {
        "id": "wYTJk6k7Ch3T"
      },
      "source": [
        "# Insert Code Here\n",
        "# Exercise 1 - Answer"
      ],
      "execution_count": null,
      "outputs": []
    },
    {
      "cell_type": "markdown",
      "metadata": {
        "id": "CdPCmcYIC2w7"
      },
      "source": [
        "**Exercise 2 - Area of a Rectangle**\n",
        "<br><i>Write a Program which asks the user to enter the length and width of a rectangle and then calculates and outputs the area of the rectangle</i>"
      ]
    },
    {
      "cell_type": "code",
      "metadata": {
        "id": "wRn6cx-PE3Bs"
      },
      "source": [
        "# Insert Code Here\n",
        "# Exercise 2 - Answer"
      ],
      "execution_count": null,
      "outputs": []
    },
    {
      "cell_type": "markdown",
      "metadata": {
        "id": "cyt7mBNpGWAc"
      },
      "source": [
        "**Exercise 3 - Area of a Field**\n",
        "<br><i>Write a Program that asks the user for the length and width of a farmer's field in feet. The area of the field is then displayed in acres.\n",
        "<br><br>Note that there are 43,560 square feet in an acre**</i>"
      ]
    },
    {
      "cell_type": "code",
      "metadata": {
        "id": "q7IieL6FHcpC"
      },
      "source": [
        "# Insert Code Here\n",
        "# Exercise 3 - Answer"
      ],
      "execution_count": null,
      "outputs": []
    },
    {
      "cell_type": "markdown",
      "metadata": {
        "id": "I7mSetcpHsKf"
      },
      "source": [
        "**Exercise 4 - Area of a Triangle**\n",
        "<br><i>The area of a triangle can be calculated using the following formula, where b is the length of the base of the triangle and h is its height\n",
        "<br><h2>$\\frac {b*h}{2}$ \n",
        "<br><br><h6>Write a program that allows the user to enter values for b and h. The program will then calculate and display the area of a triangle with base length b and height h.</h6></i>\n"
      ]
    },
    {
      "cell_type": "code",
      "metadata": {
        "id": "lpu7pWP7NK6x"
      },
      "source": [
        "# Insert Code Here\n",
        "# Exercise 4 - Answer"
      ],
      "execution_count": null,
      "outputs": []
    },
    {
      "cell_type": "markdown",
      "metadata": {
        "id": "Hgv2ZZk6NPXe"
      },
      "source": [
        "**Exercise 5 - Sum of the First n Positive Integers</u>**\n",
        "<br><i>Write a Program which asks the user to enter a positive integer n and then displays the sum of all the integers from 1 to n</br>\n",
        "<br>So, for example, if the user enters the number 5, the output will be 15 as the sum of all the integers from 1 to 5 is:- 1+2+3+4+5= 15</br>\n",
        "\n",
        "\n",
        "<br>So, for example, if the user enters the number 10, the output will be 55 as the sum of all the integers from 1 to 10 is:- 1+2+3+4+5+6+7+8+9= 55</br>\n",
        "<br> The formula for the sum of the first n positibe integers is:- <h3>$sum = \\frac{(n)(n+1)}{2}$</i>\n",
        "\n"
      ]
    },
    {
      "cell_type": "code",
      "metadata": {
        "id": "MQZy0P6_SbCn"
      },
      "source": [
        "# Insert Code Here\n",
        "# Exercise 5 - Answer"
      ],
      "execution_count": null,
      "outputs": []
    },
    {
      "cell_type": "markdown",
      "metadata": {
        "id": "yPZLqFXeTETy"
      },
      "source": [
        "**Exercise 6 - Pizza Party**\n",
        "<br><i> Write a Program to evenly divide pizzas</br>\n",
        "<br> Prompt the user for the following:-\n",
        "\n",
        "\n",
        "1.   The Number of People\n",
        "2.   The Number of Pizzas\n",
        "3.   The Number of Slices of Pizza\n",
        "\n",
        "\n",
        "<br> Display the number of pieces of pizza per person should get\n",
        "<br> If there are leftovers, show the number of leftovers\n",
        "<br><br><u>Example Output</u>\n",
        "<br>How many people?&nbsp;8\n",
        "<br>How many pizzas do you have?&nbsp;2\n",
        "<br>How many slices of pizza per pizza?&nbsp;4\n",
        "<br><br>8 people with 2 pizzas\n",
        "<br> Each person gets 1 piece of pizza.\n",
        "<br> There are 0 leftover pieces\n",
        "\n",
        "**<br><br>Hints: for this Program you will need to use the MOD (% in Python) and DIV (// in Python) Operators and as a reminder:-**</i>\n",
        "\n",
        "\n",
        "*   15 MOD 2 = 1 (as the MOD is remainder when 15 is divided by 2)\n",
        "*   15 DIV 2 = 7 (as the DIV is the QUOTIENT when 15 is divided by 2)\n",
        "\n",
        "\n",
        "\n",
        "\n"
      ]
    },
    {
      "cell_type": "code",
      "metadata": {
        "id": "H3VvpSmwXyea"
      },
      "source": [
        "# Insert Code Here\n",
        "# Exercise 6 -Answer"
      ],
      "execution_count": null,
      "outputs": []
    },
    {
      "cell_type": "markdown",
      "metadata": {
        "id": "lf9R0YCYYAwE"
      },
      "source": [
        "**Exercise 7 - Area and Volume</u>**\n",
        "<br><i>Write a Program which begins by asking the user for the radius, r.\n",
        "<br>The program will then:-\n",
        "1.   Calculate and display the area of the circle with radius r.\n",
        "<br>$ Area = \\pi *{r^2}$\n",
        "\n",
        "2. Calculate and display the volume of a sphere with radius r.\n",
        "$ Volume = \\frac{4}{3} \\pi *{r^3}$\n",
        "\n",
        "<br> Use the $\\pi$ constant in the math module in your calculations\n",
        "<br>Give your answers to 2 decimal places\n",
        "**<br><br> Hints for this program:-**\n",
        "\n",
        "\n",
        "*   round(12.34567,4)= 12.3456 as this is given to 4 decimal places\n",
        "*   round(12.34567,3) = 12.345 as this is given to 3 decimal places\n",
        "*   2**4 = 16 as this is 2 to the Power 4\n",
        "*   3**2 = 9 as this is 3 to the Power 2 (or 3 squared)\n",
        "*   import math # will enable you to use the math module\n",
        "*   math.pi # will let you use pi after the math module has been imported</i>\n",
        "\n",
        "\n"
      ]
    },
    {
      "cell_type": "code",
      "metadata": {
        "id": "3iyCfx7kXrAy"
      },
      "source": [
        "# Insert Answer Here\n",
        "# Exercise 7 - Answers"
      ],
      "execution_count": null,
      "outputs": []
    },
    {
      "cell_type": "markdown",
      "metadata": {
        "id": "LIr_qgDpe_F9"
      },
      "source": [
        "**Exercise 8 - Units of Time**\n",
        "<br><i> You have run a long distance marathon. Write a Program which prompts the user for the following:-\n",
        "\n",
        "\n",
        "1.   Number of Hours\n",
        "2.   Number of Minutes\n",
        "3.   Number of Seconds\n",
        "\n",
        "<br> It took you to run the Marathon.\n",
        "<br> Then Calculates and Displays the Total Number of Seconds represented by this duration</br><i>\n",
        "\n"
      ]
    },
    {
      "cell_type": "code",
      "metadata": {
        "id": "DA8If-XTg3Px"
      },
      "source": [
        "# Insert Code Here\n",
        "# Exercise 8 - Answer "
      ],
      "execution_count": null,
      "outputs": []
    },
    {
      "cell_type": "markdown",
      "metadata": {
        "id": "fGC5GSkydnmG"
      },
      "source": [
        "**Exercise 9 - Units of Time Again**\n",
        "<br><i>You have swam across the English Channel and it has taken you 215 minutes\n",
        "<br> Write a Program which calculates and displays:-\n",
        "\n",
        "\n",
        "1.   The number of hours it took you.\n",
        "\n",
        "2.   The number of minutes it took you.\n",
        "\n",
        "**<br><br>Hints: for this Program you will need to use the MOD (% in Python) and DIV (// in Python) Operators and as a reminder:-**\n",
        "\n",
        "\n",
        "*   151 MOD 60 = 31 (as the MOD is remainder when 151 is divided by 60)\n",
        "*   151 DIV 60 = 2 (as the DIV is the QUOTIENT when 151 is divided by 60)</i>\n",
        "\n",
        "\n"
      ]
    },
    {
      "cell_type": "code",
      "metadata": {
        "id": "tM1lOyT3iPcG"
      },
      "source": [
        "# Insert Code Here"
      ],
      "execution_count": null,
      "outputs": []
    },
    {
      "cell_type": "markdown",
      "metadata": {
        "id": "xlumPzl0jPnx"
      },
      "source": [
        "**Exercise 10 - Write a Program which asks the user to input 4 numbers and calculates and displays the product of these numbers**"
      ]
    },
    {
      "cell_type": "code",
      "metadata": {
        "id": "xE9nhEeeSWOG"
      },
      "source": [
        "# Insert Code Here"
      ],
      "execution_count": null,
      "outputs": []
    },
    {
      "cell_type": "markdown",
      "metadata": {
        "id": "8YWCBIWZ7rP9"
      },
      "source": [
        "**Exercise 11 - Self-Checkout**\n",
        "<br><i>Create a simple self-checkout system which:-\n",
        "\n",
        "\n",
        "1.   Prompts for the prices and quantities of 3 items\n",
        "2.   Calculates the subtotal of these 3 items.\n",
        "3.   Calculates the tax using a tax rate of 5.5%\n",
        "4.   Displays the line items with the quantity and total.\n",
        "5.   Prints out the subtotal, tax amount and total.\n",
        "**<br><br><u>Example Output</u>**\n",
        "<br> Enter the Price of Item 1: 25\n",
        "<br> Enter the Quanity of Item 1: \n",
        "<br><br>Enter the Price of Item 2: 10\n",
        "<br>Enter the Quanity of Item 1: 2\n",
        "<br><br>Enter the Price of Item 3: 4\n",
        "<br>Enter the Quanity of Item 1: 1\n",
        "<br><br>Subtotal: £64.00\n",
        "<br><br>Tax: £3.52\n",
        "<br><br>£67.52\n",
        "\n",
        "**<br><br>Hint for this program: The Tax for 5.5% can be calculated by Subtotal x 0.55 = 64*0.055= 3.52**</i>\n",
        "\n",
        "\n",
        "\n",
        "\n",
        "\n",
        "\n",
        "\n",
        "\n"
      ]
    },
    {
      "cell_type": "code",
      "metadata": {
        "id": "TE2nzHvoSIo-"
      },
      "source": [
        "# Insert Code Here"
      ],
      "execution_count": null,
      "outputs": []
    },
    {
      "cell_type": "markdown",
      "metadata": {
        "id": "Os_hpVKeELkv"
      },
      "source": [
        "**Exercise 12 - Currency Conversion**\n",
        "<br><i>Write a Program which converts currency.\n",
        "<br> This Program will convert Pounds to US Dollars\n",
        "<br> Prompt for amount of Pounds you have\n",
        "<br> Prompt for the current exchange rate for Pounds to Dollars\n",
        "<br> Print out the new amount in US Dollars to 2 decimal places\n",
        "**<br><br><u>Example Output</u>**\n",
        "<br> How many Pounds are you exchanging? 97\n",
        "<br>What is the exchange rate? 1.39\n",
        "<br><br> 97 Pounds at an exchange rate of 1.39 is 134.83 US Dollars</i>\n",
        "\n"
      ]
    },
    {
      "cell_type": "code",
      "metadata": {
        "id": "eFI1AePJLT8Z"
      },
      "source": [
        "# Insert Code Here"
      ],
      "execution_count": null,
      "outputs": []
    }
  ]
}