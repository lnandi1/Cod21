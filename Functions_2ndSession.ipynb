{
  "nbformat": 4,
  "nbformat_minor": 0,
  "metadata": {
    "colab": {
      "name": "Functions_2ndSession.ipynb",
      "provenance": [],
      "authorship_tag": "ABX9TyN2rwGzv7wawP/ELWJwd6/1",
      "include_colab_link": true
    },
    "kernelspec": {
      "name": "python3",
      "display_name": "Python 3"
    },
    "language_info": {
      "name": "python"
    }
  },
  "cells": [
    {
      "cell_type": "markdown",
      "metadata": {
        "id": "view-in-github",
        "colab_type": "text"
      },
      "source": [
        "<a href=\"https://colab.research.google.com/github/lnandi1/Cod21/blob/main/Functions_2ndSession.ipynb\" target=\"_parent\"><img src=\"https://colab.research.google.com/assets/colab-badge.svg\" alt=\"Open In Colab\"/></a>"
      ]
    },
    {
      "cell_type": "markdown",
      "metadata": {
        "id": "eJJhin43S_no"
      },
      "source": [
        "**Introduction**\n",
        "<br>Below are a series of worked examples and questions involving FUNCTIONS"
      ]
    },
    {
      "cell_type": "markdown",
      "metadata": {
        "id": "N2QFNvK5TY2e"
      },
      "source": [
        "**Study Example 1 and then answer Question 1**\n",
        "<br><br>In order to really understand Example 1, you will need to study the output and see how the program produces the given output.\n",
        "<br><br> Run the program a few times yourself and see how the program produces the output.\n",
        "<br><br> Note that this example makes use of FUNCTIONS, a WHILE statement and a MENU.\n",
        "<br><br> Please note that it is  perfectly ok and acceptable to ask your teacher to explain the program to you.\n",
        "\n"
      ]
    },
    {
      "cell_type": "code",
      "metadata": {
        "colab": {
          "base_uri": "https://localhost:8080/"
        },
        "id": "yO-lV9sXS3tS",
        "outputId": "091e5293-e58b-438d-e7ca-d5057aba1d4f"
      },
      "source": [
        "# Example 1\n",
        "# Program make a simple calculator\n",
        "\n",
        "# This function adds two numbers\n",
        "def add(x, y):\n",
        "  Total = x+y\n",
        "  return(Total)\n",
        "\n",
        "# This function subtracts two numbers\n",
        "def subtract(x, y):\n",
        "  Total = x-y\n",
        "  return(Total)\n",
        "\n",
        "def main():\n",
        "  print(\"Select operation.\")\n",
        "  print(\"1.Add\")\n",
        "  print(\"2.Subtract\")\n",
        "  \n",
        "  \n",
        "  while True:\n",
        "    # Take input from the user\n",
        "    choice = input(\"Enter choice(1/2) or Enter Q to Quit: \")\n",
        "\n",
        "    if choice =='Q':\n",
        "      break\n",
        "\n",
        "    # Check if choice is one of the four options\n",
        "    if choice in ('1', '2'):\n",
        "        num1 = int(input(\"Enter first number: \"))\n",
        "        num2 = int(input(\"Enter second number: \"))\n",
        "\n",
        "        if choice == '1':\n",
        "            Result = add(num1,num2)\n",
        "            print(num1, \"+\", num2, \"=\", Result)\n",
        "\n",
        "        elif choice == '2':\n",
        "            Result = subtract(num1,num2)\n",
        "            print(num1, \"-\", num2, \"=\", Result)\n",
        "            \n",
        "    else:\n",
        "        print(\"Invalid Input. Try again\")\n",
        "\n",
        "   # EndWhile\n",
        "      \n",
        "  print(\"Program has Ended\")\n",
        "\n",
        "main()\n"
      ],
      "execution_count": null,
      "outputs": [
        {
          "output_type": "stream",
          "name": "stdout",
          "text": [
            "Select operation.\n",
            "1.Add\n",
            "2.Subtract\n",
            "Enter choice(1/2) or Enter Q to Quit: 1\n",
            "Enter first number: 3\n",
            "Enter second number: 4\n",
            "3 + 4 = 7\n",
            "Enter choice(1/2) or Enter Q to Quit: 2\n",
            "Enter first number: 10\n",
            "Enter second number: 9\n",
            "10 - 9 = 1\n",
            "Enter choice(1/2) or Enter Q to Quit: Q\n",
            "Program has Ended\n"
          ]
        }
      ]
    },
    {
      "cell_type": "markdown",
      "metadata": {
        "id": "fCIm5Mk67JD_"
      },
      "source": [
        "### **Question 1** \n",
        "Now extend the above program to:-\n",
        "\n",
        "1.   Include an Option which allows users to choose Multiplication\n",
        "2.   Include an Option which allows user to choose Division\n",
        "3.   Allow the user to input both real and integers\n",
        "4.   Include an option which calculates the MOD of the numbers entered.*\n",
        "\n",
        "\n",
        "\n"
      ]
    },
    {
      "cell_type": "code",
      "metadata": {
        "id": "JzEuCJU47tVa"
      },
      "source": [
        "# Put your code here"
      ],
      "execution_count": null,
      "outputs": []
    },
    {
      "cell_type": "markdown",
      "metadata": {
        "id": "EocpQhPvUuFq"
      },
      "source": [
        "**Study Example 2 and the Output and then answer Questions 2 and 3**"
      ]
    },
    {
      "cell_type": "code",
      "metadata": {
        "id": "N_wGVDAZE6At"
      },
      "source": [
        "# Example 2\n",
        "def Convert_Celsius_Fahrenheit(Celcius):\n",
        "    Fahrenheit = Celcius *9/5 +32\n",
        "    return Fahrenheit\n"
      ],
      "execution_count": null,
      "outputs": []
    },
    {
      "cell_type": "code",
      "metadata": {
        "colab": {
          "base_uri": "https://localhost:8080/"
        },
        "id": "iEZZjEhy758G",
        "outputId": "ee1f2d3f-a1b8-4228-d4fe-200cc1ad2bc7"
      },
      "source": [
        "Result = Convert_Celsius_Fahrenheit(10)\n",
        "print(Result)"
      ],
      "execution_count": null,
      "outputs": [
        {
          "output_type": "stream",
          "text": [
            "50.0\n"
          ],
          "name": "stdout"
        }
      ]
    },
    {
      "cell_type": "markdown",
      "metadata": {
        "id": "llnSVTCg9OK2"
      },
      "source": [
        "### **Question 2**\n",
        " Now extend the above program so:-\n",
        "\n",
        "\n",
        "1.   It includes a function to convert Fahrenheit to Celcius\n",
        "2.   It includes a menu to allow the user to choose the conversion and input numbers.\n",
        "\n"
      ]
    },
    {
      "cell_type": "code",
      "metadata": {
        "id": "eRaK1LhWBwS2"
      },
      "source": [
        "# Put your code here"
      ],
      "execution_count": null,
      "outputs": []
    },
    {
      "cell_type": "code",
      "metadata": {
        "id": "EmrXwtGL9mkY"
      },
      "source": [
        "# Example 3\n",
        "PI = 3.142.   # This is a Global Variable\n",
        "def Area_Circle(Radius):\n",
        "  Area = PI*Radius**2\n",
        "  return(Area)"
      ],
      "execution_count": null,
      "outputs": []
    },
    {
      "cell_type": "code",
      "metadata": {
        "colab": {
          "base_uri": "https://localhost:8080/"
        },
        "id": "FEEWtBOy-Zng",
        "outputId": "27272267-ffb2-4f58-e7ea-b34719e65d2f"
      },
      "source": [
        "Result = Area_Circle(10)\n",
        "print(Result)"
      ],
      "execution_count": null,
      "outputs": [
        {
          "output_type": "stream",
          "text": [
            "314.2\n"
          ],
          "name": "stdout"
        }
      ]
    },
    {
      "cell_type": "markdown",
      "metadata": {
        "id": "ue1UQzCw-sdu"
      },
      "source": [
        "**Question 3** \n",
        "<br>Now extend the above Program so:\n",
        "\n",
        "\n",
        "1.   It includes a Function to Calculate the Circumference of the Circle\n",
        "2.   It includes a Menu so Users can Choose what Option they want.\n",
        "3.   Any result is given to 2 decimal places\n",
        "\n"
      ]
    },
    {
      "cell_type": "code",
      "metadata": {
        "id": "aF05vpvnBzeo"
      },
      "source": [
        "# Put your code here"
      ],
      "execution_count": null,
      "outputs": []
    },
    {
      "cell_type": "markdown",
      "metadata": {
        "id": "8W87P9D-YRpO"
      },
      "source": [
        "**Study Example 4 and then answer Questions 4 and 5**"
      ]
    },
    {
      "cell_type": "code",
      "metadata": {
        "colab": {
          "base_uri": "https://localhost:8080/"
        },
        "id": "5qOfxmum_NOA",
        "outputId": "fb933b6b-30bb-4dee-fc10-dd29e1a060ef"
      },
      "source": [
        "# Example 4 \n",
        "import math\n",
        "print(math.pi)\n",
        "print(round(math.pi,2)) # Output to 2 decimal places\n",
        "print(round(math.pi,3)) # Output to 3 decimal places "
      ],
      "execution_count": null,
      "outputs": [
        {
          "output_type": "stream",
          "text": [
            "3.141592653589793\n",
            "3.14\n",
            "3.142\n"
          ],
          "name": "stdout"
        }
      ]
    },
    {
      "cell_type": "markdown",
      "metadata": {
        "id": "tXa_t3TVA9rs"
      },
      "source": [
        "**Question 4**\n",
        "<br> Write a Function which calculates the volume of a cylinder given its height and radius using the math module. \n",
        "<br><br>Give your output to 2 decimal places."
      ]
    },
    {
      "cell_type": "code",
      "metadata": {
        "id": "qNL6Ae0RBmd0"
      },
      "source": [
        "# Put your Code Here"
      ],
      "execution_count": null,
      "outputs": []
    },
    {
      "cell_type": "markdown",
      "metadata": {
        "id": "ysTOPjfrB4gy"
      },
      "source": [
        ""
      ]
    },
    {
      "cell_type": "markdown",
      "metadata": {
        "id": "lxqSdYPgFtY4"
      },
      "source": [
        "**Question 5**\n",
        "<br>Write a Function which allows Two Players to roll a dice each and then the Program reports on which Player has rolled the higher number\n",
        "<br><br>Note that you will have to use the random module to answer this question."
      ]
    },
    {
      "cell_type": "code",
      "metadata": {
        "id": "i_GwtYyoCNbH"
      },
      "source": [
        "# Insert Code Here"
      ],
      "execution_count": null,
      "outputs": []
    },
    {
      "cell_type": "markdown",
      "metadata": {
        "id": "QOFsyi4ccvd0"
      },
      "source": [
        "**Study Examples 5 and 6 and the outputs - they illustrate the concept of LOCAL and GLOBAL variables and then answer Question 6**\n",
        "<br><br> You will undoubtely need your teacher to explain the concept of LOCAL and GLOBAL variables properly, so please do approach them for this purpose**\n",
        "<br><br> An explanation of LOCAL and GLOBAL variables can be found here\n",
        "<br><br> https://youtu.be/zN-fG9sT8FY\n",
        "\n",
        "<br>The explanation starts at:- 8 minutes 40 seconds\n",
        "\n"
      ]
    },
    {
      "cell_type": "code",
      "metadata": {
        "colab": {
          "base_uri": "https://localhost:8080/",
          "height": 234
        },
        "id": "FUOynryOHCCP",
        "outputId": "ab1d1eb1-f6cc-48a4-ae3e-b0bde3ab69d6"
      },
      "source": [
        "# Example 5\n",
        "# Local and Global Variables\n",
        "def Addition():\n",
        "  Apples = 100 # The Variable Apples is Local to the Function Addition\n",
        "\n",
        "\n",
        "print(Apples)"
      ],
      "execution_count": null,
      "outputs": [
        {
          "output_type": "error",
          "ename": "NameError",
          "evalue": "ignored",
          "traceback": [
            "\u001b[0;31m---------------------------------------------------------------------------\u001b[0m",
            "\u001b[0;31mNameError\u001b[0m                                 Traceback (most recent call last)",
            "\u001b[0;32m<ipython-input-35-642e887781fc>\u001b[0m in \u001b[0;36m<module>\u001b[0;34m()\u001b[0m\n\u001b[1;32m      4\u001b[0m   \u001b[0mApples\u001b[0m \u001b[0;34m=\u001b[0m \u001b[0;36m100\u001b[0m\u001b[0;34m\u001b[0m\u001b[0;34m\u001b[0m\u001b[0m\n\u001b[1;32m      5\u001b[0m \u001b[0;34m\u001b[0m\u001b[0m\n\u001b[0;32m----> 6\u001b[0;31m \u001b[0mprint\u001b[0m\u001b[0;34m(\u001b[0m\u001b[0mApples\u001b[0m\u001b[0;34m)\u001b[0m\u001b[0;34m\u001b[0m\u001b[0;34m\u001b[0m\u001b[0m\n\u001b[0m",
            "\u001b[0;31mNameError\u001b[0m: name 'Apples' is not defined"
          ]
        }
      ]
    },
    {
      "cell_type": "code",
      "metadata": {
        "colab": {
          "base_uri": "https://localhost:8080/"
        },
        "id": "6fDaNnIGHcsg",
        "outputId": "ada694c9-999a-4de5-fc73-144a936150a3"
      },
      "source": [
        "# Example 6\n",
        "Apples = 10 # Here Apples is a Global Variable\n",
        "def Addition():\n",
        "  Apples = 100 # Here Apples is local to the function Addition\n",
        "\n",
        "print(Apples)"
      ],
      "execution_count": null,
      "outputs": [
        {
          "output_type": "stream",
          "text": [
            "10\n"
          ],
          "name": "stdout"
        }
      ]
    },
    {
      "cell_type": "markdown",
      "metadata": {
        "id": "QFCPhlJkHwXf"
      },
      "source": [
        "**Question 6**\n",
        "<br>Write your own Function with local and global variables"
      ]
    },
    {
      "cell_type": "code",
      "metadata": {
        "id": "x9TuWV11H5J4"
      },
      "source": [
        "# Put your Code here"
      ],
      "execution_count": null,
      "outputs": []
    }
  ]
}