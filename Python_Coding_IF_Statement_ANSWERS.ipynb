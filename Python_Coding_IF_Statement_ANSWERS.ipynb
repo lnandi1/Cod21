{
  "nbformat": 4,
  "nbformat_minor": 0,
  "metadata": {
    "colab": {
      "name": "Python_Coding_IF_Statement_ANSWERS.ipynb",
      "provenance": [],
      "collapsed_sections": [],
      "authorship_tag": "ABX9TyMg06UtmN5hiluOp2sLM4cy",
      "include_colab_link": true
    },
    "kernelspec": {
      "name": "python3",
      "display_name": "Python 3"
    },
    "language_info": {
      "name": "python"
    }
  },
  "cells": [
    {
      "cell_type": "markdown",
      "metadata": {
        "id": "view-in-github",
        "colab_type": "text"
      },
      "source": [
        "<a href=\"https://colab.research.google.com/github/lnandi1/Cod21/blob/main/Python_Coding_IF_Statement_ANSWERS.ipynb\" target=\"_parent\"><img src=\"https://colab.research.google.com/assets/colab-badge.svg\" alt=\"Open In Colab\"/></a>"
      ]
    },
    {
      "cell_type": "markdown",
      "metadata": {
        "id": "_qNJLyEJ3PB5"
      },
      "source": [
        "**There are 3 fundamental types of programming constructs**  \n",
        "\n",
        "\n",
        "*   **These are known as SEQUENCE, ITERATION and SELECTION**\n",
        "*   **We will look at a form of SELECTION**\n",
        "*   **The IF statement is a form of SELECTION**\n",
        "\n"
      ]
    },
    {
      "cell_type": "code",
      "metadata": {
        "colab": {
          "base_uri": "https://localhost:8080/"
        },
        "id": "cynqFjOR85SA",
        "outputId": "e60d04b4-d01c-42f9-9d01-4a61540ee317"
      },
      "source": [
        "# Program 1\n",
        "Month = input(\"Enter a Month \")\n",
        "if Month == \"December\":\n",
        "  print(\"Happy Xmas!!\")\n"
      ],
      "execution_count": 5,
      "outputs": [
        {
          "output_type": "stream",
          "text": [
            "Enter a Month December\n",
            "Happy Xmas!!\n"
          ],
          "name": "stdout"
        }
      ]
    },
    {
      "cell_type": "markdown",
      "metadata": {
        "id": "HR4aG5TQ9VKX"
      },
      "source": [
        "**Note that the above program has a single equal sign in Line 1<br>\n",
        "and a double equal sign in Line 2<br>\n",
        "So, what is the difference between a single equal sign and a double equal sign ?<br><br>\n",
        "In Month = \"December\", we are assigning the value December to the variable Month<br><br>\n",
        "In Month == \"December, we are asking the question is Month equal to December?<br>**\n",
        "\n"
      ]
    },
    {
      "cell_type": "code",
      "metadata": {
        "colab": {
          "base_uri": "https://localhost:8080/"
        },
        "id": "8pPPUAthIuGQ",
        "outputId": "8c76d0b0-8068-41b2-bbfe-9df8f3f9bae7"
      },
      "source": [
        "# Program 2\n",
        "Month = input(\"Enter a Month \")\n",
        "if Month == \"October\":\n",
        "  print(\"It is the Month of Halloween\")\n",
        "else:\n",
        "  print(\"It is not the Month of Halloween\")"
      ],
      "execution_count": null,
      "outputs": [
        {
          "output_type": "stream",
          "text": [
            "Enter a Month October\n",
            "It is the Month of Halloween\n"
          ],
          "name": "stdout"
        }
      ]
    },
    {
      "cell_type": "markdown",
      "metadata": {
        "id": "yuR4TM6JIUA4"
      },
      "source": [
        "**Question 1 - Write a Program which asks the user to enter the name of a month. If they enter 'December', the message 'Happy Xmas is displayed. If the month is not December then the message 'Not Xmas Yet is displayed'.**"
      ]
    },
    {
      "cell_type": "code",
      "metadata": {
        "id": "M3KVTojeD9Qq",
        "colab": {
          "base_uri": "https://localhost:8080/"
        },
        "outputId": "8e0adde1-baf7-48d9-a9f0-56019ce0ec58"
      },
      "source": [
        "# Insert Code Here\n",
        "# Question 1\n",
        "Month = input(\"Enter a Month \")\n",
        "if Month == \"December\":\n",
        "  print(\"Happy Xmas\")\n",
        "else:\n",
        "  print(\"Not Xmas Yet\")"
      ],
      "execution_count": 7,
      "outputs": [
        {
          "output_type": "stream",
          "text": [
            "Enter a Month January\n",
            "Not Xmas Yet\n"
          ],
          "name": "stdout"
        }
      ]
    },
    {
      "cell_type": "code",
      "metadata": {
        "colab": {
          "base_uri": "https://localhost:8080/"
        },
        "id": "o6pS-6g73_pj",
        "outputId": "604d57dc-5434-4c42-86e1-311b99bd3399"
      },
      "source": [
        "# Program 3\n",
        "# The IF statement\n",
        "# This IF statement has 3 branches\n",
        "age = int(input(\"Enter Age \"))\n",
        "if age == 18:                                       # Asking is 18 equal to 18?\n",
        "  print(\"You are just old enough to vote \")\n",
        "elif age > 18:                                       # Asking if age is greater than 18\n",
        "  print(\"You are old enough to vote \")\n",
        "else:\n",
        "  print(\"You are too young to vote\")"
      ],
      "execution_count": null,
      "outputs": [
        {
          "output_type": "stream",
          "text": [
            "You are old enough to vote \n"
          ],
          "name": "stdout"
        }
      ]
    },
    {
      "cell_type": "markdown",
      "metadata": {
        "id": "D1s1X1CGJpHH"
      },
      "source": [
        "**Question 2 - Write a program that: Asks the user how long on average they spend watching TV each day**\n",
        "\n",
        "\n",
        "*  **If it is less than 2 hours, outputs ‘That shouldn’t rot your brain too much’** \n",
        "* **If it is less than 4 hours per day, outputs ‘Aren’t you getting square eyes?**\n",
        "* **Otherwise outputs ‘Fresh air beats channel flicking’**\n"
      ]
    },
    {
      "cell_type": "code",
      "metadata": {
        "id": "UNj_oG69JsYI",
        "colab": {
          "base_uri": "https://localhost:8080/"
        },
        "outputId": "99b6e082-0a4b-47f8-9266-35e704b692b6"
      },
      "source": [
        "# Insert Code Here\n",
        "# Question 2\n",
        "# This IF statement has 3 branches\n",
        "hours = int(input(\"How long do you spend watching TV each day \"))\n",
        "if hours < 2:                                       \n",
        "  print(\"That should not rot your brain too much \")\n",
        "elif hours < 4:                                       \n",
        "  print(\"Aren't you getting square eyes \")\n",
        "else:\n",
        "  print(\"Fresh air beats channel flicking \")"
      ],
      "execution_count": null,
      "outputs": [
        {
          "output_type": "stream",
          "text": [
            "How long do you spend watching TV each day 18\n",
            "Fresh air beats channel flicking \n"
          ],
          "name": "stdout"
        }
      ]
    },
    {
      "cell_type": "markdown",
      "metadata": {
        "id": "ieEqwZt4Jgyd"
      },
      "source": [
        ""
      ]
    },
    {
      "cell_type": "code",
      "metadata": {
        "colab": {
          "base_uri": "https://localhost:8080/"
        },
        "id": "XXC8fyL_KMZk",
        "outputId": "1951ccda-2937-4ce5-f903-eab6d7159d32"
      },
      "source": [
        "# Program 4\n",
        "shops = int(input(\"How many minutes does it take you to get to the shops? \"))\n",
        "if shops < 60:\n",
        "  print(\"That is a reasonable amount of time \")\n",
        "elif shops < 120:\n",
        "  print(\"Hmmm. Is there a quicker route you can take? \")\n",
        "else:\n",
        "  print(\"It seems to take you forever \")\n"
      ],
      "execution_count": null,
      "outputs": [
        {
          "output_type": "stream",
          "text": [
            "How many minutes does it take you to get to the shops? 21\n",
            "That is a reasonable amount of time \n"
          ],
          "name": "stdout"
        }
      ]
    },
    {
      "cell_type": "markdown",
      "metadata": {
        "id": "6Oc2-yQoJ_wA"
      },
      "source": [
        "**Question 3 - Write a program that:\n",
        "converts and outputs marks into grades, using the following data:**\n",
        "\n",
        "\n",
        "1. **Greater than or equal to 75 to an A**\n",
        "\n",
        "2. **Greater than or equal to 60 to a B**\n",
        "\n",
        "3. **Greater than or equal to 35 to a C**\n",
        "\n",
        "4. **Less than 35 to a D**"
      ]
    },
    {
      "cell_type": "code",
      "metadata": {
        "id": "3h8Rfu_jK0e3",
        "colab": {
          "base_uri": "https://localhost:8080/"
        },
        "outputId": "607afa81-5ac1-4a2f-b7ef-ae73d456d1b4"
      },
      "source": [
        "# Insert Code Here\n",
        "# Question 3\n",
        "Mark = int(input(\"Enter the Mark \"))\n",
        "if Mark >=75:\n",
        "  Grade = 'A'\n",
        "elif Mark >=65:\n",
        "  Grade = 'B'\n",
        "elif Mark >=35:\n",
        "  Grade = 'C'\n",
        "else:\n",
        "  Grade = 'D'\n",
        "print(\"Grade is \",Grade)\n"
      ],
      "execution_count": null,
      "outputs": [
        {
          "output_type": "stream",
          "text": [
            "Enter the Mark 79\n",
            "Grade is  A\n"
          ],
          "name": "stdout"
        }
      ]
    },
    {
      "cell_type": "markdown",
      "metadata": {
        "id": "9jSYymAfJ3Jo"
      },
      "source": [
        ""
      ]
    },
    {
      "cell_type": "code",
      "metadata": {
        "id": "XlVdCJstKxcN",
        "colab": {
          "base_uri": "https://localhost:8080/"
        },
        "outputId": "311ccfdd-27e5-4a8d-e1c1-f0474d4c7bb4"
      },
      "source": [
        "# Program 5\n",
        "Flag_Colour = input(\"Enter a colour that is in the British Flag \")\n",
        "if Flag_Colour == \"Red\" or Flag_Colour == \"Blue\" or Flag_Colour == \"White\":\n",
        "  print(\"That is Correct\")\n",
        "else:\n",
        "  print(\"Try again \")"
      ],
      "execution_count": 4,
      "outputs": [
        {
          "output_type": "stream",
          "text": [
            "Enter a colour that is in the British Flag Blue\n",
            "That is Correct\n"
          ],
          "name": "stdout"
        }
      ]
    },
    {
      "cell_type": "markdown",
      "metadata": {
        "id": "4DoJQqiENN7W"
      },
      "source": [
        "**Question 4 - Write a program that: asks the user to name one of the Olympic Values (Respect, Excellence and Friendship) and if they correctly name one, output 'That’s correct‘, otherwise output 'Try again'**\n",
        "\n",
        "\n"
      ]
    },
    {
      "cell_type": "code",
      "metadata": {
        "id": "GY1YszZeNdR3",
        "colab": {
          "base_uri": "https://localhost:8080/"
        },
        "outputId": "d4d639f0-3767-42b1-afd2-46217e493884"
      },
      "source": [
        "# Insert Code Here\n",
        "# Question 4\n",
        "Olympic_Value = input(\"Enter a Olympic Value \")\n",
        "if Olympic_Value == \"Respect\" or Olympic_Value==\"Excellence\" or Olympic_Value==\"Friendship\":\n",
        "  print(\"That's Correct\")\n",
        "else:\n",
        "  print(\"Try again\")"
      ],
      "execution_count": null,
      "outputs": [
        {
          "output_type": "stream",
          "text": [
            "Enter a Olympic Value Respect\n",
            "That's Correct\n"
          ],
          "name": "stdout"
        }
      ]
    },
    {
      "cell_type": "code",
      "metadata": {
        "id": "l4mFBZhlkS43",
        "colab": {
          "base_uri": "https://localhost:8080/"
        },
        "outputId": "3830a4e2-d98f-4acd-8a1e-96d6e48e1f25"
      },
      "source": [
        "# Program 6\n",
        "# Is a number is even\n",
        "num = int(input(\"Enter an integer \"))#Note the use of the 'int' for integer\n",
        "if num % 2 == 0:\n",
        "  print(num, \" is even \")"
      ],
      "execution_count": null,
      "outputs": [
        {
          "output_type": "stream",
          "text": [
            "Enter an integer 12\n",
            "12  is even \n"
          ],
          "name": "stdout"
        }
      ]
    },
    {
      "cell_type": "markdown",
      "metadata": {
        "id": "NGH991CgJfp-"
      },
      "source": [
        "**Question 5 - Write a Program which invites the user to input a number and reports on whether it is odd or even**"
      ]
    },
    {
      "cell_type": "code",
      "metadata": {
        "id": "YNYgHvGoJqq7",
        "colab": {
          "base_uri": "https://localhost:8080/"
        },
        "outputId": "67d0e4cc-a75e-4ab2-9bc4-9cc8315ed5e2"
      },
      "source": [
        "# Insert Code Here\n",
        "# Question 5\n",
        "num = int(input(\"Enter an integer \"))  #Note the use of the 'int' for integer\n",
        "if num % 2 == 0:\n",
        "  print(num, \" is even \")\n",
        "else:\n",
        "  print(num, \" is odd\")\n"
      ],
      "execution_count": null,
      "outputs": [
        {
          "output_type": "stream",
          "text": [
            "Enter an integer 13\n",
            "13  is odd\n"
          ],
          "name": "stdout"
        }
      ]
    },
    {
      "cell_type": "code",
      "metadata": {
        "id": "2LWkowJJ4QaS",
        "colab": {
          "base_uri": "https://localhost:8080/"
        },
        "outputId": "08c5a9d9-6300-469f-9ede-2082dfb29c1d"
      },
      "source": [
        "# Program 7\n",
        "# Generating a random number between 1 and 3\n",
        "import random\n",
        "r = random.randint(1,3)\n",
        "print(r)"
      ],
      "execution_count": 8,
      "outputs": [
        {
          "output_type": "stream",
          "text": [
            "2\n"
          ],
          "name": "stdout"
        }
      ]
    },
    {
      "cell_type": "markdown",
      "metadata": {
        "id": "8VUFbP36Ohi-"
      },
      "source": [
        ""
      ]
    },
    {
      "cell_type": "markdown",
      "metadata": {
        "id": "zAA7-bMmRFX0"
      },
      "source": [
        "**Question 6 - Write a game that:\n",
        "Allows the user to play rock, paper, scissors against the computer Must display the computer’s choice and show the result of the game (or if you wish look at the answer and see that you understand what is going in)**"
      ]
    },
    {
      "cell_type": "code",
      "metadata": {
        "id": "cgQy9-roPSK5"
      },
      "source": [
        "# Insert Code Here"
      ],
      "execution_count": null,
      "outputs": []
    },
    {
      "cell_type": "code",
      "metadata": {
        "colab": {
          "base_uri": "https://localhost:8080/"
        },
        "id": "q0iIevUfZU6w",
        "outputId": "862b60db-7ef0-41a7-d33e-621d1dad25dd"
      },
      "source": [
        "# Question 6 Answer - Rock, Paper, Scissors\n",
        "import random\n",
        "Computer = random.randint(1,3)\n",
        "print(Computer)\n",
        "User = int(input(\"Enter 1 for Rock, 2 for Paper, 3 for Scissors \"))\n",
        "if Computer > User:\n",
        "  print(\"Computer Wins \")\n",
        "elif Computer < User:\n",
        "  print(\"You Win\")\n",
        "else:\n",
        "  print(\"It is a Draw\")"
      ],
      "execution_count": null,
      "outputs": [
        {
          "output_type": "stream",
          "text": [
            "2\n",
            "Enter 1 for Rock, 2 for Paper, 3 for Scissors 3\n",
            "You Win\n"
          ],
          "name": "stdout"
        }
      ]
    },
    {
      "cell_type": "markdown",
      "metadata": {
        "id": "y_u-XldJcbe7"
      },
      "source": [
        "**Question 7 - This question requires slightly more thought. It relates to the Chinese Zodiac.\n",
        "The Chinese Zodiac assigns animals to years in a 12 year cycle.\n",
        "One 12 year cycle is shown below. \n",
        "The pattern repeats from there, with 2012 being another year of the dragon and 1999 being another year of the hare.**\n",
        "**Now you have a choice, you can try and write the code (and you may have to think a bit) or you can study the answer and run it and go through it line by line to see that you understand it**\n",
        "\n",
        "\n",
        "\n",
        "1.   Year &emsp;    Animal\n",
        "2.   2000 &emsp;           Dragon \n",
        "3.   2001  &emsp;          Snake\n",
        "4.   2002  &emsp;          Horse\n",
        "5.   2003  &emsp;          Sheep\n",
        "6.   2004   &emsp;         Monkey\n",
        "7.   2005 &emsp;  Rooster\n",
        "8.   2006 &emsp;  Dog\n",
        "9.   2007 &emsp;Pig\n",
        "10.  2008 &emsp; Rat\n",
        "11.  2009&emsp; Ox\n",
        "12.  2010 &emsp; Tiger\n",
        "13.  2011 &emsp; Hare\n",
        "\n"
      ]
    },
    {
      "cell_type": "code",
      "metadata": {
        "id": "0f0LayCFkL9D"
      },
      "source": [
        "#Insert Code Here"
      ],
      "execution_count": null,
      "outputs": []
    },
    {
      "cell_type": "code",
      "metadata": {
        "id": "I1a4aGvqjIEO"
      },
      "source": [
        "# Question 7\n",
        "# Program 8\n",
        "year = int(input(\"Enter a Year \"))\n",
        "\n",
        "if year % 12 == 8:\n",
        "  animal = \"Dragon\"\n",
        "elif year % 12 ==9:\n",
        "  animal = \"Snake\"\n",
        "elif year % 12 == 10:\n",
        "  animal = \"Horse\"\n",
        "elif year % 12 == 11:\n",
        "  animal = \"Sheep\"\n",
        "elif year % 12== 0:\n",
        "  animal = \"Monkey\"\n",
        "elif year % 12==1:\n",
        "  animal = \"Rooster\"\n",
        "elif year % 12==2:\n",
        "  animal = \"Dog\"\n",
        "elif year % 12== 3:\n",
        "  animal = \"Pig\"\n",
        "elif year % 12==4:\n",
        "  animal = \"Rat\"\n",
        "elif year % 12==5:\n",
        "  animal = \"Ox\"\n",
        "elif year % 12==6:\n",
        "  animal = \"Tiger\"\n",
        "elif year % 12==7:\n",
        "  animal = \"Hare\"\n",
        "else:\n",
        "  print(\"Invalid entry\")\n",
        "\n",
        "print(animal)"
      ],
      "execution_count": null,
      "outputs": []
    },
    {
      "cell_type": "markdown",
      "metadata": {
        "id": "wfc_jCv3N4Hc"
      },
      "source": [
        "**Question 8 - Now let us look at a Program with a NESTED IF statement**\n",
        "**Study the Program below with a NESTED IF statement**\n",
        "**by looking at the output and going through the program line by line to see that you understand how the program produces the output**\n",
        "**You may need to TRACE the PROGRAM in order to understand how it works**"
      ]
    },
    {
      "cell_type": "code",
      "metadata": {
        "colab": {
          "base_uri": "https://localhost:8080/"
        },
        "id": "XIEI4aXxOD5T",
        "outputId": "bc1274c6-aba2-4ebb-a606-102b4cbe33c8"
      },
      "source": [
        "# Question 8\n",
        "# Program 9\n",
        "# Python program to demonstrate\n",
        "# nested if statement\n",
        "num = int(input(\"Enter a number \"))\n",
        "if num >= 0:\n",
        "    if num == 0:\n",
        "        print(\"Zero\")\n",
        "    else:\n",
        "        print(\"Positive number\")\n",
        "else:\n",
        "    print(\"Negative number\")"
      ],
      "execution_count": 1,
      "outputs": [
        {
          "output_type": "stream",
          "text": [
            "Enter a number 9\n",
            "Positive number\n"
          ],
          "name": "stdout"
        }
      ]
    }
  ]
}