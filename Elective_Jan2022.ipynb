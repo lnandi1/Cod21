{
  "nbformat": 4,
  "nbformat_minor": 0,
  "metadata": {
    "colab": {
      "name": "Elective_Jan2022.ipynb",
      "provenance": [],
      "collapsed_sections": [
        "RmpdOr-Z8n04",
        "8yD0caD9s3dH",
        "nzSrSOXBTYgl"
      ],
      "include_colab_link": true
    },
    "kernelspec": {
      "name": "python3",
      "display_name": "Python 3"
    },
    "language_info": {
      "name": "python"
    }
  },
  "cells": [
    {
      "cell_type": "markdown",
      "metadata": {
        "id": "view-in-github",
        "colab_type": "text"
      },
      "source": [
        "<a href=\"https://colab.research.google.com/github/lnandi1/Cod21/blob/main/Elective_Jan2022.ipynb\" target=\"_parent\"><img src=\"https://colab.research.google.com/assets/colab-badge.svg\" alt=\"Open In Colab\"/></a>"
      ]
    },
    {
      "cell_type": "markdown",
      "metadata": {
        "id": "hzYnLUFo8bBC"
      },
      "source": [
        "**<h1>Introduction</h1>**\n",
        "<h3>We are going to start Coding (Programming).\n",
        "<br>We are going to start Coding (Programming) in the Python Programming Language.</h3>\n"
      ]
    },
    {
      "cell_type": "markdown",
      "metadata": {
        "id": "RmpdOr-Z8n04"
      },
      "source": [
        "## **Section 1.0  Looking at Output**"
      ]
    },
    {
      "cell_type": "code",
      "metadata": {
        "colab": {
          "base_uri": "https://localhost:8080/"
        },
        "id": "yxoO_Ozj8byt",
        "outputId": "cb6a9231-5dbf-4489-a085-58bedc129bc1"
      },
      "source": [
        "# Example 1\n",
        "print(\"Hello World\")"
      ],
      "execution_count": null,
      "outputs": [
        {
          "output_type": "stream",
          "name": "stdout",
          "text": [
            "Hello World\n"
          ]
        }
      ]
    },
    {
      "cell_type": "code",
      "metadata": {
        "colab": {
          "base_uri": "https://localhost:8080/"
        },
        "id": "CbatkxVP8DAl",
        "outputId": "731c4971-4e3f-49d1-a79b-e09cbe228add"
      },
      "source": [
        "# Example 2\n",
        "print(\"My name is Alex\")"
      ],
      "execution_count": null,
      "outputs": [
        {
          "output_type": "stream",
          "name": "stdout",
          "text": [
            "My name is Alex\n"
          ]
        }
      ]
    },
    {
      "cell_type": "code",
      "metadata": {
        "colab": {
          "base_uri": "https://localhost:8080/"
        },
        "id": "tiUQwrjl8L0M",
        "outputId": "485bdb62-6a1c-4984-d9ba-f9c06258f919"
      },
      "source": [
        "# Example 3\n",
        "print(\"To be or Not to be\\n\")\n",
        "print(\"That is the Question\\n\")\n",
        "print(\"Whether it is nobler in the mind\\n\")"
      ],
      "execution_count": null,
      "outputs": [
        {
          "output_type": "stream",
          "name": "stdout",
          "text": [
            "To be or Not to be\n",
            "\n",
            "That is the Question\n",
            "\n",
            "Whether it is nobler in the mind\n",
            "\n"
          ]
        }
      ]
    },
    {
      "cell_type": "markdown",
      "metadata": {
        "id": "8XhFLiQm8wKW"
      },
      "source": [
        "**Exercise 1 - Now write your own programs displaying some output**"
      ]
    },
    {
      "cell_type": "code",
      "metadata": {
        "id": "iOt9WRK1rUKv"
      },
      "source": [
        "#Insert Code Here\n"
      ],
      "execution_count": null,
      "outputs": []
    },
    {
      "cell_type": "code",
      "metadata": {
        "id": "uP3yG_4OuNX-"
      },
      "source": [
        ""
      ],
      "execution_count": null,
      "outputs": []
    },
    {
      "cell_type": "markdown",
      "metadata": {
        "id": "OSwJ_GzW8-v8"
      },
      "source": [
        "## **Section 2.0 Arithmetic Operations**"
      ]
    },
    {
      "cell_type": "code",
      "metadata": {
        "colab": {
          "base_uri": "https://localhost:8080/"
        },
        "id": "EBk0t0fl9DdV",
        "outputId": "1bb53249-f199-4688-8475-b037f1737209"
      },
      "source": [
        "#Example 4\n",
        "#Calculating the Sum\n",
        "Apples = 10\n",
        "Bananas = 12\n",
        "Total = Apples + Bananas\n",
        "print(Total)"
      ],
      "execution_count": null,
      "outputs": [
        {
          "output_type": "stream",
          "name": "stdout",
          "text": [
            "22\n"
          ]
        }
      ]
    },
    {
      "cell_type": "code",
      "metadata": {
        "colab": {
          "base_uri": "https://localhost:8080/"
        },
        "id": "vJrRimXq9SHT",
        "outputId": "335e9fa0-4200-414a-efe3-a51f8ad44f4c"
      },
      "source": [
        "# Example 5\n",
        "# The Difference between two numbers\n",
        "A = 100\n",
        "B = 80\n",
        "Total = A - B\n",
        "print(Total)"
      ],
      "execution_count": null,
      "outputs": [
        {
          "output_type": "stream",
          "name": "stdout",
          "text": [
            "20\n"
          ]
        }
      ]
    },
    {
      "cell_type": "code",
      "metadata": {
        "colab": {
          "base_uri": "https://localhost:8080/"
        },
        "id": "yGjxRcvdA6eO",
        "outputId": "311d7583-a0ae-45ea-9a14-6ec36918fcce"
      },
      "source": [
        "# Example 6\n",
        "# Calculating the Product of Two Numbers (Multiplication)\n",
        "Pizza = 10\n",
        "Pieces = 5\n",
        "Total = Pizza * Pieces \n",
        "print(Total)"
      ],
      "execution_count": null,
      "outputs": [
        {
          "output_type": "stream",
          "name": "stdout",
          "text": [
            "50\n"
          ]
        }
      ]
    },
    {
      "cell_type": "code",
      "metadata": {
        "id": "-ztfTrxkss7N"
      },
      "source": [
        ""
      ],
      "execution_count": null,
      "outputs": []
    },
    {
      "cell_type": "code",
      "metadata": {
        "colab": {
          "base_uri": "https://localhost:8080/"
        },
        "id": "xq-_Aom9CAYV",
        "outputId": "ecccb748-2c24-4804-df31-c5dd986c4a73"
      },
      "source": [
        "# Example 6\n",
        "# Division\n",
        "X = 100\n",
        "Y = 20\n",
        "Result = X/Y \n",
        "print(Result)\n",
        "\n"
      ],
      "execution_count": null,
      "outputs": [
        {
          "output_type": "stream",
          "name": "stdout",
          "text": [
            "5.0\n"
          ]
        }
      ]
    },
    {
      "cell_type": "markdown",
      "metadata": {
        "id": "tSMlGCBMD0IL"
      },
      "source": [
        "**Exercise 2 - Now write some similar programs**"
      ]
    },
    {
      "cell_type": "code",
      "metadata": {
        "id": "NIhSaIAtpBAE"
      },
      "source": [
        ""
      ],
      "execution_count": null,
      "outputs": []
    },
    {
      "cell_type": "code",
      "source": [
        ""
      ],
      "metadata": {
        "id": "6G_-igG-ECoS"
      },
      "execution_count": null,
      "outputs": []
    },
    {
      "cell_type": "code",
      "metadata": {
        "id": "ZVNL2eknpEgy"
      },
      "source": [
        ""
      ],
      "execution_count": null,
      "outputs": []
    },
    {
      "cell_type": "markdown",
      "metadata": {
        "id": "L7yovZXP8aXZ"
      },
      "source": [
        "## **Section 3.0  - Input and Output of Strings**"
      ]
    },
    {
      "cell_type": "markdown",
      "metadata": {
        "id": "gSnrhSCDn9mM"
      },
      "source": [
        ""
      ]
    },
    {
      "cell_type": "code",
      "metadata": {
        "colab": {
          "base_uri": "https://localhost:8080/"
        },
        "id": "BSKxCeJXESQ_",
        "outputId": "756e31f2-2ed8-49b2-d23e-d8b82eca9c31"
      },
      "source": [
        "# Example 7\n",
        "Name = input(\"What is your Name ? \")\n",
        "print(\"My name is \", Name)"
      ],
      "execution_count": null,
      "outputs": [
        {
          "output_type": "stream",
          "name": "stdout",
          "text": [
            "What is your Name ? Kate\n",
            "My name is  Kate\n"
          ]
        }
      ]
    },
    {
      "cell_type": "markdown",
      "metadata": {
        "id": "MGZ2Tdd1Ev6c"
      },
      "source": [
        "**Exercise 3 - Write a Program which asks the user for their favourite city and then displays the answer**"
      ]
    },
    {
      "cell_type": "markdown",
      "metadata": {
        "id": "hw2pfV-kFHGd"
      },
      "source": [
        "**Exercise 4 - Write a Program which asks the user for their favourite subject and then displays the answer**"
      ]
    },
    {
      "cell_type": "markdown",
      "metadata": {
        "id": "88rJzq_tFl3F"
      },
      "source": [
        "## **Section 4.0 Input and Output of Numbers**"
      ]
    },
    {
      "cell_type": "code",
      "metadata": {
        "colab": {
          "base_uri": "https://localhost:8080/"
        },
        "id": "YiU_EcQcFuHc",
        "outputId": "d3b3265d-055f-4c2a-ef3b-494b052e442a"
      },
      "source": [
        "# Example 8\n",
        "Age = int(input(\"Enter your Age \"))\n",
        "print(\"You are \", Age, \" years old\")"
      ],
      "execution_count": null,
      "outputs": [
        {
          "output_type": "stream",
          "name": "stdout",
          "text": [
            "Enter your Age -200\n",
            "You are  -200  years old\n"
          ]
        }
      ]
    },
    {
      "cell_type": "code",
      "metadata": {
        "colab": {
          "base_uri": "https://localhost:8080/"
        },
        "id": "1j2uu6niF5ey",
        "outputId": "532d52ae-e87c-49f1-c752-97d57f712892"
      },
      "source": [
        "# Example 9\n",
        "Minutes = int(input(\"How many minutes does it take you to brush your teeth? \"))\n",
        "print(\"It takes you \", Minutes, \" minutes to brush your teeth!\")"
      ],
      "execution_count": null,
      "outputs": [
        {
          "output_type": "stream",
          "name": "stdout",
          "text": [
            "How many minutes does it take you to brush your teeth? 25\n",
            "It takes you  25  minutes to brush your teeth!\n"
          ]
        }
      ]
    },
    {
      "cell_type": "markdown",
      "metadata": {
        "id": "ZfRd-uclGifI"
      },
      "source": [
        "**Exercise 5 - Write a Program which asks the user how many countries there are in the world and displays the answer**"
      ]
    },
    {
      "cell_type": "code",
      "metadata": {
        "id": "1MVBwbKxsxJs"
      },
      "source": [
        "# Insert Code"
      ],
      "execution_count": null,
      "outputs": []
    },
    {
      "cell_type": "markdown",
      "metadata": {
        "id": "amArS8YXIaYC"
      },
      "source": [
        "**Exercise 6 - Now write a program with a question of your choice**"
      ]
    },
    {
      "cell_type": "code",
      "metadata": {
        "id": "z4FMiRensx5M"
      },
      "source": [
        "# Insert Code"
      ],
      "execution_count": null,
      "outputs": []
    },
    {
      "cell_type": "markdown",
      "metadata": {
        "id": "urMfBWlhqneA"
      },
      "source": [
        "##**Section 4.1 Writing Programs with the IF statement**"
      ]
    },
    {
      "cell_type": "markdown",
      "metadata": {
        "id": "RJKmu1BhqzmI"
      },
      "source": [
        "**Study Examples 9a, 9b, run them yourselves and do Exercises 6a and 6b**"
      ]
    },
    {
      "cell_type": "code",
      "metadata": {
        "colab": {
          "base_uri": "https://localhost:8080/"
        },
        "id": "DB7jz2Suq89B",
        "outputId": "032104cb-ebdb-4e91-ede0-deeaf339fd4c"
      },
      "source": [
        "# Program 9a\n",
        "# New Year\n",
        "Month = input(\"Enter a Month \")\n",
        "if Month == \"January\":\n",
        "  print(\"Happy New Year\")"
      ],
      "execution_count": null,
      "outputs": [
        {
          "output_type": "stream",
          "name": "stdout",
          "text": [
            "Enter a Month January\n",
            "Happy New Year\n"
          ]
        }
      ]
    },
    {
      "cell_type": "code",
      "metadata": {
        "id": "l26S3GZNqxro",
        "colab": {
          "base_uri": "https://localhost:8080/"
        },
        "outputId": "5829fd76-7dcf-49ec-b31a-a6c188cb9dd8"
      },
      "source": [
        "# Program 9b\n",
        "# New Year\n",
        "Month = input(\"Enter a Month \")\n",
        "if Month== \"January\":\n",
        "  print(\"Happy New Year\")\n",
        "else:\n",
        "  print(\"Not New Year Yet\")"
      ],
      "execution_count": null,
      "outputs": [
        {
          "output_type": "stream",
          "name": "stdout",
          "text": [
            "Enter a Month April\n",
            "Not New Year Yet\n"
          ]
        }
      ]
    },
    {
      "cell_type": "markdown",
      "metadata": {
        "id": "ZZ-eY33uL5Tq"
      },
      "source": [
        "**Exercise 6a - Type in the above Program (Program 9b) and run it**"
      ]
    },
    {
      "cell_type": "code",
      "metadata": {
        "id": "uXVqamqPsO9F"
      },
      "source": [
        "#Insert Answer Here\n"
      ],
      "execution_count": null,
      "outputs": []
    },
    {
      "cell_type": "markdown",
      "metadata": {
        "id": "P8Wd5k1Crw67"
      },
      "source": [
        "**Exercise 6b - Write a Program which asks the user to enter a month and if is October the program says 'it is Month of Halloween'and if it is not October the program says 'it is not the Month of Halloween'**"
      ]
    },
    {
      "cell_type": "code",
      "metadata": {
        "id": "3BeYtKjxMJ98"
      },
      "source": [
        "# Insert Answer Here"
      ],
      "execution_count": null,
      "outputs": []
    },
    {
      "cell_type": "markdown",
      "metadata": {
        "id": "qFMHi2rvMP-e"
      },
      "source": [
        "**Study the Program below, run it and then answer the following questions**"
      ]
    },
    {
      "cell_type": "code",
      "metadata": {
        "colab": {
          "base_uri": "https://localhost:8080/"
        },
        "id": "BqBTty69MgSv",
        "outputId": "da4479ad-864c-4128-f59a-536fd201b0ba"
      },
      "source": [
        "# Program 9c\n",
        "# Owning a Dog \n",
        "Age = int(input(\"Enter Age \"))\n",
        "if Age >=10:\n",
        "  print(\"You are old enough to look after a dog\")\n",
        "else:\n",
        "  print(\"You are too young to look after a dog\")\n"
      ],
      "execution_count": null,
      "outputs": [
        {
          "output_type": "stream",
          "name": "stdout",
          "text": [
            "Enter Age 10\n",
            "You are old enough to look after a dog\n"
          ]
        }
      ]
    },
    {
      "cell_type": "markdown",
      "metadata": {
        "id": "3cxp-j1AsYYi"
      },
      "source": [
        "**Exercise 6c - Type in the Above Program and Run it**"
      ]
    },
    {
      "cell_type": "code",
      "metadata": {
        "id": "mfNvlYi0NXST"
      },
      "source": [
        "# Insert Answer Here"
      ],
      "execution_count": null,
      "outputs": []
    },
    {
      "cell_type": "markdown",
      "metadata": {
        "id": "TIiS4uGXNciY"
      },
      "source": [
        "**Exercise 6d - Write a Program which asks for a Person's Age. If the Age is greater than or equal to 18 (>=18) then the Program says that the person is old enough to vote otherwise the program says the person is too young to vote**"
      ]
    },
    {
      "cell_type": "code",
      "metadata": {
        "id": "XGZAub5ROa9Z"
      },
      "source": [
        "#Insert Code"
      ],
      "execution_count": null,
      "outputs": []
    },
    {
      "cell_type": "markdown",
      "metadata": {
        "id": "KTcc7ckgOmMC"
      },
      "source": [
        "**Study the Program below, run it and then answer the following questions**"
      ]
    },
    {
      "cell_type": "code",
      "metadata": {
        "colab": {
          "base_uri": "https://localhost:8080/"
        },
        "id": "zZmzS3uWOqZd",
        "outputId": "0ea3820c-5911-4205-87e5-0bb461de7fb1"
      },
      "source": [
        "# Program 9d\n",
        "Minutes = int(input(\"How many minutes to do you spend watching TV each day?\"))\n",
        "if Minutes >=15:\n",
        "  print(\"That is a long time\")\n",
        "else:\n",
        "  print(\"That looks ok\")"
      ],
      "execution_count": null,
      "outputs": [
        {
          "output_type": "stream",
          "name": "stdout",
          "text": [
            "How many minutes to do you spend watching TV each day?15\n",
            "That is a long time\n"
          ]
        }
      ]
    },
    {
      "cell_type": "code",
      "metadata": {
        "id": "oudkWftgQ8Kv"
      },
      "source": [
        ""
      ],
      "execution_count": null,
      "outputs": []
    },
    {
      "cell_type": "markdown",
      "metadata": {
        "id": "aCrxwmZCPPIZ"
      },
      "source": [
        "**Exercise 6e - Type in the Above Program and Run it**"
      ]
    },
    {
      "cell_type": "code",
      "metadata": {
        "id": "ZUvxOaaXPowQ"
      },
      "source": [
        "#Insert Code Here"
      ],
      "execution_count": null,
      "outputs": []
    },
    {
      "cell_type": "markdown",
      "metadata": {
        "id": "WY1VEMvoPsvs"
      },
      "source": [
        "**Exercise 6f - Write a Program which asks you how many minutes it takes you to get to walk to the local shops. If it takes 20 minutes or more than the program will say that it is a very long time and if it less than 20 minutes the program will say that it is a good amount of time**"
      ]
    },
    {
      "cell_type": "code",
      "metadata": {
        "id": "2ixNfF73Q9Cz"
      },
      "source": [
        "#Insert Code Here"
      ],
      "execution_count": null,
      "outputs": []
    },
    {
      "cell_type": "markdown",
      "metadata": {
        "id": "8Vin9jSMDA3t"
      },
      "source": [
        "## **Section 4.2 Writing Programs with FOR Statements**"
      ]
    },
    {
      "cell_type": "markdown",
      "metadata": {
        "id": "MS4eYGPYDISZ"
      },
      "source": [
        "**Study the Programs below (9e and 9f) and their Outputs and then complete the associated Exercises 6G and 6H**|"
      ]
    },
    {
      "cell_type": "code",
      "metadata": {
        "colab": {
          "base_uri": "https://localhost:8080/"
        },
        "id": "YPJmDzLODXMB",
        "outputId": "a3d57cd0-fd2f-4ff8-854a-0fbb06229ee8"
      },
      "source": [
        "# Program 9e\n",
        "for j in range(5):\n",
        "  print(j)"
      ],
      "execution_count": null,
      "outputs": [
        {
          "output_type": "stream",
          "name": "stdout",
          "text": [
            "0\n",
            "1\n",
            "2\n",
            "3\n",
            "4\n"
          ]
        }
      ]
    },
    {
      "cell_type": "code",
      "metadata": {
        "colab": {
          "base_uri": "https://localhost:8080/"
        },
        "id": "Fl5hLbh4DgQK",
        "outputId": "32a99ee2-6202-4257-9b79-eeb1f50feb94"
      },
      "source": [
        "#Program 9f\n",
        "for j in range(10):\n",
        "  print(j)"
      ],
      "execution_count": null,
      "outputs": [
        {
          "output_type": "stream",
          "name": "stdout",
          "text": [
            "0\n",
            "1\n",
            "2\n",
            "3\n",
            "4\n",
            "5\n",
            "6\n",
            "7\n",
            "8\n",
            "9\n"
          ]
        }
      ]
    },
    {
      "cell_type": "markdown",
      "metadata": {
        "id": "qW0W8WSLDmfU"
      },
      "source": [
        "**Exercise 6G - Type in the above program and run it**"
      ]
    },
    {
      "cell_type": "code",
      "metadata": {
        "id": "JmRUP2heDpmq"
      },
      "source": [
        "#Insert Code Here"
      ],
      "execution_count": null,
      "outputs": []
    },
    {
      "cell_type": "markdown",
      "metadata": {
        "id": "r7vJeiGZD47r"
      },
      "source": [
        "**Exercise 6H- Now Write a Program which generates the Numbers 0 to 6**"
      ]
    },
    {
      "cell_type": "code",
      "metadata": {
        "id": "FxRzKXcID9XS"
      },
      "source": [
        "#Insert Code Here"
      ],
      "execution_count": null,
      "outputs": []
    },
    {
      "cell_type": "markdown",
      "metadata": {
        "id": "2NhNkkJHECCP"
      },
      "source": [
        "**Study the Programs 9g and 9h below and their Outputs and then complete Exercises 6I and 6J**"
      ]
    },
    {
      "cell_type": "code",
      "metadata": {
        "colab": {
          "base_uri": "https://localhost:8080/"
        },
        "id": "T9RM_gU7EIxg",
        "outputId": "acf825f2-56f3-42c1-a72a-50f6212bba18"
      },
      "source": [
        "# Program 9g\n",
        "for j in range(1,6):\n",
        "  print(j)"
      ],
      "execution_count": null,
      "outputs": [
        {
          "output_type": "stream",
          "name": "stdout",
          "text": [
            "1\n",
            "2\n",
            "3\n",
            "4\n",
            "5\n"
          ]
        }
      ]
    },
    {
      "cell_type": "code",
      "metadata": {
        "colab": {
          "base_uri": "https://localhost:8080/"
        },
        "id": "VAhOWZT5ERsV",
        "outputId": "29354ff4-ff02-4e9e-bdb8-ab4e007194bd"
      },
      "source": [
        "# Program 9h\n",
        "for j in range(2,8):\n",
        "  print(j)"
      ],
      "execution_count": null,
      "outputs": [
        {
          "output_type": "stream",
          "name": "stdout",
          "text": [
            "2\n",
            "3\n",
            "4\n",
            "5\n",
            "6\n",
            "7\n"
          ]
        }
      ]
    },
    {
      "cell_type": "markdown",
      "metadata": {
        "id": "6XK1CQRUG3py"
      },
      "source": [
        "**Exercise 6I - Type in the Above Program and run it**"
      ]
    },
    {
      "cell_type": "code",
      "metadata": {
        "id": "o7E5gIscG7t7"
      },
      "source": [
        "#Insert Code Here"
      ],
      "execution_count": null,
      "outputs": []
    },
    {
      "cell_type": "markdown",
      "metadata": {
        "id": "nJcoTLDZEXCV"
      },
      "source": [
        "**Exercise 6J - Write a Program which generates the numbers 3 to 9**"
      ]
    },
    {
      "cell_type": "code",
      "metadata": {
        "id": "NujKfN-cG2DK"
      },
      "source": [
        "# Insert Code Here"
      ],
      "execution_count": null,
      "outputs": []
    },
    {
      "cell_type": "markdown",
      "metadata": {
        "id": "jK5a-TNkHFPM"
      },
      "source": [
        "**Study the Programs 9i and 9j below and their outputs and then complete Exercises 6K, 6L, 6M and 6N**"
      ]
    },
    {
      "cell_type": "code",
      "metadata": {
        "colab": {
          "base_uri": "https://localhost:8080/"
        },
        "id": "yVEHKVccHO4f",
        "outputId": "61c1942c-6627-4de4-eb13-42178790d053"
      },
      "source": [
        "# Program 9i\n",
        "print(\"The 10 times table\")\n",
        "Number = 10\n",
        "for j in range(1,11):\n",
        "  Product = Number*j\n",
        "  print(j,\"*\", Number, \"= \",Product) "
      ],
      "execution_count": null,
      "outputs": [
        {
          "output_type": "stream",
          "name": "stdout",
          "text": [
            "The 10 times table\n",
            "1 * 10 =  10\n",
            "2 * 10 =  20\n",
            "3 * 10 =  30\n",
            "4 * 10 =  40\n",
            "5 * 10 =  50\n",
            "6 * 10 =  60\n",
            "7 * 10 =  70\n",
            "8 * 10 =  80\n",
            "9 * 10 =  90\n",
            "10 * 10 =  100\n"
          ]
        }
      ]
    },
    {
      "cell_type": "code",
      "metadata": {
        "colab": {
          "base_uri": "https://localhost:8080/"
        },
        "id": "5AzVU98NHs5w",
        "outputId": "76b6f9ea-5daf-4d30-befa-e794373a2b17"
      },
      "source": [
        "#Program 9j\n",
        "print(\"The 13 times table\")\n",
        "Number = 13\n",
        "for j in range(1,11):\n",
        "  Product = Number*j\n",
        "  print(j,\"*\", Number, \"= \",Product) "
      ],
      "execution_count": null,
      "outputs": [
        {
          "output_type": "stream",
          "name": "stdout",
          "text": [
            "The 13 times table\n",
            "1 * 13 =  13\n",
            "2 * 13 =  26\n",
            "3 * 13 =  39\n",
            "4 * 13 =  52\n",
            "5 * 13 =  65\n",
            "6 * 13 =  78\n",
            "7 * 13 =  91\n",
            "8 * 13 =  104\n",
            "9 * 13 =  117\n",
            "10 * 13 =  130\n"
          ]
        }
      ]
    },
    {
      "cell_type": "markdown",
      "metadata": {
        "id": "Il4hNoX-IcS8"
      },
      "source": [
        "**Exercise 6K - Type in the Above Program and run it**"
      ]
    },
    {
      "cell_type": "code",
      "metadata": {
        "id": "yZE-Kqk0IiNk"
      },
      "source": [
        "#Insert Code Here"
      ],
      "execution_count": null,
      "outputs": []
    },
    {
      "cell_type": "markdown",
      "metadata": {
        "id": "YnPz7D7dImjT"
      },
      "source": [
        "**Exercise 6L - Write a Program which outputs the 7 times table**"
      ]
    },
    {
      "cell_type": "code",
      "metadata": {
        "id": "xMyTscgzIqRk"
      },
      "source": [
        "#Insert Code Here"
      ],
      "execution_count": null,
      "outputs": []
    },
    {
      "cell_type": "markdown",
      "metadata": {
        "id": "v0CU-0jLItMu"
      },
      "source": [
        "**Exercise 6M - Write a Program which outputs the 16 times table**"
      ]
    },
    {
      "cell_type": "code",
      "metadata": {
        "id": "McxV83F8I1J9"
      },
      "source": [
        "#Insert Code Here"
      ],
      "execution_count": null,
      "outputs": []
    },
    {
      "cell_type": "markdown",
      "metadata": {
        "id": "ltrPf02hI5zg"
      },
      "source": [
        "**Exercise 6N- Write a Program which outputs the 1st 5 square numbers, that is 1,4,9,16 and 25**\n",
        "<br>**For this you need to know 3$**$2=9 where $**2$ means squared**"
      ]
    },
    {
      "cell_type": "code",
      "metadata": {
        "id": "_ZQCmMFXJBSw"
      },
      "source": [
        "#Insert Code Here"
      ],
      "execution_count": null,
      "outputs": []
    },
    {
      "cell_type": "markdown",
      "metadata": {
        "id": "fl5pwNU31m5O"
      },
      "source": [
        "##**Section 4.3 Writing Programs with the Random Module**"
      ]
    },
    {
      "cell_type": "markdown",
      "metadata": {
        "id": "JrWhEZLG1xJA"
      },
      "source": [
        "**Study the Programs below and Answer the Following Questions**"
      ]
    },
    {
      "cell_type": "code",
      "metadata": {
        "colab": {
          "base_uri": "https://localhost:8080/"
        },
        "id": "HSXLLl7C1vfZ",
        "outputId": "1228b34c-2aac-4d45-c8bb-95e59281d6a7"
      },
      "source": [
        "#Exercise 9k\n",
        "# Generating a Random Number\n",
        "import random\n",
        "r = random.randint(1,6)\n",
        "print(r)"
      ],
      "execution_count": null,
      "outputs": [
        {
          "output_type": "stream",
          "name": "stdout",
          "text": [
            "3\n"
          ]
        }
      ]
    },
    {
      "cell_type": "code",
      "metadata": {
        "colab": {
          "base_uri": "https://localhost:8080/"
        },
        "id": "naDCrcqF2KK7",
        "outputId": "f4a8933f-5126-495f-e501-ff88bd021e99"
      },
      "source": [
        "# Exercise 9l\n",
        "# Generating a Random Number\n",
        "import random\n",
        "r = random.randint(1,10)\n",
        "print(r)"
      ],
      "execution_count": null,
      "outputs": [
        {
          "output_type": "stream",
          "name": "stdout",
          "text": [
            "2\n"
          ]
        }
      ]
    },
    {
      "cell_type": "markdown",
      "metadata": {
        "id": "2yNs_JGY2GDG"
      },
      "source": [
        "**Exercise 60 - Type in the Above Program and Run it**"
      ]
    },
    {
      "cell_type": "code",
      "metadata": {
        "id": "WHbY7d-w2cIX"
      },
      "source": [
        "#Insert Code"
      ],
      "execution_count": null,
      "outputs": []
    },
    {
      "cell_type": "markdown",
      "metadata": {
        "id": "B4DVPq9S38Ep"
      },
      "source": [
        "**Exercise 6P- Write a Program which Generates a Random Number between 1 and 100**"
      ]
    },
    {
      "cell_type": "code",
      "metadata": {
        "id": "lu_FYbzU4W9r"
      },
      "source": [
        "#Insert Code Here"
      ],
      "execution_count": null,
      "outputs": []
    },
    {
      "cell_type": "markdown",
      "metadata": {
        "id": "YlpHehFV4bK2"
      },
      "source": [
        "**Exercise 6Q - Write a Program which Generates a Random Number between 6 and 10**"
      ]
    },
    {
      "cell_type": "code",
      "metadata": {
        "id": "dssgmk5z4vND"
      },
      "source": [
        "#Insert Code Here"
      ],
      "execution_count": null,
      "outputs": []
    },
    {
      "cell_type": "markdown",
      "metadata": {
        "id": "rZPV8ULE2egR"
      },
      "source": [
        "**Study the Program below and answer the following Questions**\n",
        "\n",
        "\n"
      ]
    },
    {
      "cell_type": "code",
      "metadata": {
        "colab": {
          "base_uri": "https://localhost:8080/"
        },
        "id": "yorBzHyC2wt3",
        "outputId": "c0ab1828-43f4-4377-c594-ece3ce0253d9"
      },
      "source": [
        "# Exercise 9M\n",
        "# A Game\n",
        "import random\n",
        "Player1 = random.randint(1,100)\n",
        "print(\"Player1 \", Player1)\n",
        "Player2 = random.randint(1,100)\n",
        "print(\"Player2 \", Player2)\n",
        "\n",
        "if Player1 > Player2:\n",
        "  print(\"Player1 has won\")\n",
        "elif Player2 > Player1:\n",
        "  print(\"Player2 has won\")\n",
        "else:\n",
        "  print(\"This is a  Draw\")\n",
        "\n",
        "\n",
        "\n"
      ],
      "execution_count": null,
      "outputs": [
        {
          "output_type": "stream",
          "name": "stdout",
          "text": [
            "Player1  82\n",
            "Player2  56\n",
            "Player1 has won\n"
          ]
        }
      ]
    },
    {
      "cell_type": "markdown",
      "metadata": {
        "id": "IZ-kFmr243ia"
      },
      "source": [
        "**Exercise 6R - Type in the Above Program and Run it**"
      ]
    },
    {
      "cell_type": "code",
      "metadata": {
        "id": "8uENZNy347vK"
      },
      "source": [
        "#Insert Code Here"
      ],
      "execution_count": null,
      "outputs": []
    },
    {
      "cell_type": "markdown",
      "metadata": {
        "id": "pm2qg4Et5KDU"
      },
      "source": [
        "**Exercise 6S- Write a Program in which both Player1 and Player2 generate random numbers between 1 and 500 and the Program reports whether Player1 has won, Player2 has won or it is a draw**"
      ]
    },
    {
      "cell_type": "code",
      "metadata": {
        "id": "sNqZU4iF5fQk"
      },
      "source": [
        "#Insert code"
      ],
      "execution_count": null,
      "outputs": []
    },
    {
      "cell_type": "markdown",
      "metadata": {
        "id": "5TQkiCE06z65"
      },
      "source": [
        "**Study the Program below and then answer the following questions**"
      ]
    },
    {
      "cell_type": "code",
      "metadata": {
        "colab": {
          "base_uri": "https://localhost:8080/"
        },
        "id": "niMMmUKp633V",
        "outputId": "1e00535b-e714-47ca-f9cb-e3c0da75417e"
      },
      "source": [
        "#Exercise 6n\n",
        "# A Game\n",
        "import random\n",
        "Player1 = random.randint(1,100)\n",
        "print(\"Player1 \", Player1)\n",
        "User_Input = int(input(\"Enter a Number between 1 and 100 \"))\n",
        "print(\"User_Input \", User_Input)\n",
        "\n",
        "if Player1 > User_Input:\n",
        "  print(\"Player1 has won\")\n",
        "elif User_Input > Player1:\n",
        "  print(\"You have won\")\n",
        "else:\n",
        "  print(\"This is a  Draw\")"
      ],
      "execution_count": null,
      "outputs": [
        {
          "output_type": "stream",
          "name": "stdout",
          "text": [
            "Player1  28\n",
            "Enter a Number between 1 and 100 23\n",
            "User_Input  23\n",
            "Player1 has won\n"
          ]
        }
      ]
    },
    {
      "cell_type": "markdown",
      "metadata": {
        "id": "tLDjZzia7oRy"
      },
      "source": [
        "**Exercise 6T - Type in the Program Above and Run it**"
      ]
    },
    {
      "cell_type": "code",
      "metadata": {
        "id": "WiiysWmc7r8Z"
      },
      "source": [
        "#Insert Code Here"
      ],
      "execution_count": null,
      "outputs": []
    },
    {
      "cell_type": "markdown",
      "metadata": {
        "id": "Dvpnw2ZN5t3z"
      },
      "source": [
        "**Study the Program below and answer the following questions**"
      ]
    },
    {
      "cell_type": "code",
      "metadata": {
        "colab": {
          "base_uri": "https://localhost:8080/"
        },
        "id": "97yEPhZw5I1U",
        "outputId": "1d9f4a6f-3c71-4c27-e891-8da7d4ec6044"
      },
      "source": [
        "#Exercise 6o\n",
        "import random\n",
        "Names = ['Anna','Alex','David','Ali']\n",
        "Choice = random.choice(Names)\n",
        "print(Choice)"
      ],
      "execution_count": null,
      "outputs": [
        {
          "output_type": "stream",
          "name": "stdout",
          "text": [
            "David\n"
          ]
        }
      ]
    },
    {
      "cell_type": "markdown",
      "metadata": {
        "id": "51x8DRuT8e4J"
      },
      "source": [
        "**Exercise 6U - Write a Program in which you create a list of 5 countries and the program randomly chooses one of the countries**"
      ]
    },
    {
      "cell_type": "code",
      "metadata": {
        "id": "jXEC2tuV8qb2"
      },
      "source": [
        "#Insert Code"
      ],
      "execution_count": null,
      "outputs": []
    },
    {
      "cell_type": "markdown",
      "metadata": {
        "id": "8yD0caD9s3dH"
      },
      "source": [
        "## **Section 5.0 Writing Programs Related to Area and Volume**"
      ]
    },
    {
      "cell_type": "markdown",
      "metadata": {
        "id": "Ewb4X3_Nqv-8"
      },
      "source": [
        ""
      ]
    },
    {
      "cell_type": "markdown",
      "metadata": {
        "id": "SSRisISWy5Dw"
      },
      "source": [
        "**Study Example 1 below and then do Exercise 7**"
      ]
    },
    {
      "cell_type": "code",
      "metadata": {
        "colab": {
          "base_uri": "https://localhost:8080/"
        },
        "id": "L6oG2rKQzNDx",
        "outputId": "8b5b21f1-5882-460f-ca41-1f87d308f6ad"
      },
      "source": [
        "# Example 9\n",
        "# Calculating and Outputting the Area of a Square\n",
        "Length = float(input(\"Enter the Length of Square \"))\n",
        "Area = Length*Length\n",
        "print(\"The Area of the Square is \", round(Area,4), \" cm squared\")"
      ],
      "execution_count": null,
      "outputs": [
        {
          "output_type": "stream",
          "name": "stdout",
          "text": [
            "Enter the Length of Square 3.68\n",
            "The Area of the Square is  13.5424  cm squared\n"
          ]
        }
      ]
    },
    {
      "cell_type": "markdown",
      "metadata": {
        "id": "R1fjp8hYzo1-"
      },
      "source": [
        "**Exercise 7 - Write a Program which invites the user to enter the Width and Height of a Rectangle and then calculates and outputs its area**"
      ]
    },
    {
      "cell_type": "code",
      "metadata": {
        "id": "PLnMbSOX8_g6"
      },
      "source": [
        "# Insert Code\n"
      ],
      "execution_count": null,
      "outputs": []
    },
    {
      "cell_type": "markdown",
      "metadata": {
        "id": "3fUzmwLY0ObP"
      },
      "source": [
        "**Study Example 10 below which calculates and outputs the area of a circle and do Exercises 8,9,10**\n",
        "\n",
        "<br>(Note the Formula for Area of a Circle = $\\pi * Radius^2$)\n",
        "<br> Also you will need to know the following:-\n",
        "\n",
        "\n",
        "1.   'float' means that you can input decimal numbers such as 3.4, 9.6.\n",
        "2.   'round' means output to 2 decimal places\n",
        "3.    '**2' means to the power 2 or squared\n",
        "\n"
      ]
    },
    {
      "cell_type": "code",
      "metadata": {
        "colab": {
          "base_uri": "https://localhost:8080/"
        },
        "id": "HFgQAOpe0TQp",
        "outputId": "67a40116-07c4-479e-fbad-be3279758f07"
      },
      "source": [
        "# Example 10\n",
        "# Calculating the area of a circle\n",
        "PI = 3.142\n",
        "Radius = float(input(\"Enter the Radius of a Circle in cm \"))\n",
        "Area = PI *Radius**2 \n",
        "print(\" The area of a circle is \", round(Area,2), \" cm square\")"
      ],
      "execution_count": null,
      "outputs": [
        {
          "output_type": "stream",
          "name": "stdout",
          "text": [
            "Enter the Radius of a Circle in cm 5\n",
            " The area of a circle is  78.55  cm square\n"
          ]
        }
      ]
    },
    {
      "cell_type": "markdown",
      "metadata": {
        "id": "J_Dsjm081OGd"
      },
      "source": [
        "**<br>Exercise 8 - Write a Program which calculates the circumference of a circle and outputs the result to 2 decimal places</br>**\n",
        "**<br>(Formula: Circumference of a Circle = $2*\\pi*Radius$)</br>**\n",
        "**<br>(To round to 2 decimal places use round(Circumference,2) - so here we round Circumference to 2 decimal places</br>**"
      ]
    },
    {
      "cell_type": "code",
      "metadata": {
        "id": "awtlJAAH1dEA",
        "colab": {
          "base_uri": "https://localhost:8080/"
        },
        "outputId": "0039744d-b64d-48a3-9240-7a1031e94a00"
      },
      "source": [
        "# Calculating the Circumference of a circle\n",
        "PI = 3.142\n",
        "Radius = float(input(\"Enter the Radius of a Circle in cm\"))\n",
        "Circumference = 2*PI*Radius\n",
        "print(\" The Circumference of a circle is \", round(Circumference,2), \" cm square\")"
      ],
      "execution_count": null,
      "outputs": [
        {
          "output_type": "stream",
          "name": "stdout",
          "text": [
            "Enter the Radius of a Circle in cm 4\n",
            " The Circumference of a circle is  25.14  cm square\n"
          ]
        }
      ]
    },
    {
      "cell_type": "markdown",
      "metadata": {
        "id": "D1bIsMfT2bto"
      },
      "source": [
        "**Exercise 9 - Write a Program which asks the user to input a number and then calculates and displays the cube of the number**\n",
        "<br><br>Note 2$**$3 means to 2 the Power 3 or Cubed (2$*$2$*$2=8)\n",
        "<br><br>Note 2$**$4 means to 2 the Power 4 (2$*$2$*$2*2=16)\n"
      ]
    },
    {
      "cell_type": "code",
      "metadata": {
        "id": "2BPJSVB23avP",
        "colab": {
          "base_uri": "https://localhost:8080/"
        },
        "outputId": "165043fd-c76f-4760-f4ce-b4a60401409f"
      },
      "source": [
        "# Calculate and display the cube of the number\n",
        "Number = int(input(\"Enter a number\"))\n",
        "Cubed = Number**3\n",
        "print(Number, \"cubed is\", Cubed)\n"
      ],
      "execution_count": null,
      "outputs": [
        {
          "output_type": "stream",
          "name": "stdout",
          "text": [
            "Enter a number 5\n",
            "5 cubed is 125\n"
          ]
        }
      ]
    },
    {
      "cell_type": "markdown",
      "metadata": {
        "id": "8dxtdp7D3iEC"
      },
      "source": [
        "**Exercise 10 - Write a Program which asks the user to input the length of a side of a cube and calculates and outputs the volume of the cube**\n",
        "<br><br>Volume of a Cube = Length$*$Length*Length\n",
        "<br>OR\n",
        "<br>Volume of a Cube = Length$**$3\n"
      ]
    },
    {
      "cell_type": "code",
      "metadata": {
        "id": "0oal45YI3vLv"
      },
      "source": [
        "# Insert Code"
      ],
      "execution_count": null,
      "outputs": []
    },
    {
      "cell_type": "markdown",
      "metadata": {
        "id": "nzSrSOXBTYgl"
      },
      "source": [
        "## **Section 6.0 Functions with Currency Conversion Program and Calculator Program**"
      ]
    },
    {
      "cell_type": "markdown",
      "metadata": {
        "id": "r6Dm40-rBMz_"
      },
      "source": [
        "**Study Example 11 and its output, and then do Exercise 11**"
      ]
    },
    {
      "cell_type": "code",
      "metadata": {
        "id": "F_8f4qU9Bf-1",
        "colab": {
          "base_uri": "https://localhost:8080/"
        },
        "outputId": "15688850-cf46-4ff5-fb54-450b6f8e110e"
      },
      "source": [
        "# Example 11\n",
        "# Currency Conversions\n",
        "def Pound_Dollar():\n",
        "  Pound = int(input(\"Enter Pounds \"))\n",
        "  Dollar = Pound * 1.38\n",
        "  print(Dollar)\n",
        "\n",
        "def Dollar_Pound():\n",
        "  Dollar = int(input(\"Enter Dollars \"))\n",
        "  Pound = Dollar * 0.73\n",
        "  print(Pound)\n",
        "  \n",
        "\n",
        "def Pound_Yen():\n",
        "  Pound = int(input(\"Enter Pounds \"))\n",
        "  Yen = Pound * 153.61\n",
        "  print(Yen)\n",
        "  \n",
        "  \n",
        "def main():\n",
        "  print(\"Enter 1 if you would like to convert Pounds to Dollars \")\n",
        "  print(\"Enter 2 if you would like to convert Dollars to Pounds \")\n",
        "  print(\"Enter 3 if you would like to convert Pounds to Yen \")\n",
        "  Answer = input(\"Enter Number \")\n",
        "  if Answer == \"1\":\n",
        "    Pound_Dollar()\n",
        "  elif Answer == \"2\":\n",
        "    Dollar_Pound()\n",
        "  elif Answer == \"3\":\n",
        "    Pound_Yen()\n",
        "  else:\n",
        "    print(\"Invalid Answer\")\n",
        "\n",
        "main()\n"
      ],
      "execution_count": null,
      "outputs": [
        {
          "output_type": "stream",
          "name": "stdout",
          "text": [
            "Enter 1 if you would like to convert Pounds to Dollars \n",
            "Enter 2 if you would like to convert Dollars to Pounds \n",
            "Enter 3 if you would like to convert Pounds to Yen \n",
            "Enter Number 1\n",
            "Enter Pounds 1\n",
            "1.38\n"
          ]
        }
      ]
    },
    {
      "cell_type": "markdown",
      "metadata": {
        "id": "5V8qx8djB_br"
      },
      "source": [
        "**Exercise 11 - Now extend the program so that it converts 3 more currencies of your choice**"
      ]
    },
    {
      "cell_type": "code",
      "metadata": {
        "id": "zq3tNsPoCMR5",
        "colab": {
          "base_uri": "https://localhost:8080/"
        },
        "outputId": "91312d91-c221-45f6-cb63-cc894b82a451"
      },
      "source": [
        "# Example 3 \n",
        "# Currency Conversions\n",
        "def Pound_Dollar():\n",
        "  Pound = int(input(\"Enter Pounds \"))\n",
        "  Dollar = Pound * 1.38\n",
        "  print(Dollar)\n",
        "\n",
        "def Dollar_Pound():\n",
        "  Dollar = int(input(\"Enter Dollars \"))\n",
        "  Pound = Dollar * 0.73\n",
        "  print(Pound)\n",
        "  \n",
        "\n",
        "def Pound_Yen():\n",
        "  Pound = int(input(\"Enter Pounds \"))\n",
        "  Yen = Pound * 153.61\n",
        "  print(Yen)\n",
        "\n",
        "\n",
        "def Euro_Pound():\n",
        "  Euro = int(input(\"Enter Euro \"))\n",
        "  Pound = Euro * 0.73\n",
        "  print(Pound) \n",
        "\n",
        "  \n",
        "def Pound_sterling_Pound():\n",
        "  Pound_sterling = int(input(\"Enter Pound_sterling \"))\n",
        "  Pound = Pound_sterling * 0.73\n",
        "  print(Pound)\n",
        "\n",
        "\n",
        "def Serbian_dinar_Pound():\n",
        "  Serbian_dinar = int(input(\"Enter Serbian_dinar \"))\n",
        "  Pound = Serbian_dinar * 0.73\n",
        "  print(Pound)     \n",
        "\n",
        "  \n",
        "def main():\n",
        "  print(\"Enter 1 if you would like to convert Pounds to Dollars \")\n",
        "  print(\"Enter 2 if you would like to convert Dollars to Pounds \")\n",
        "  print(\"Enter 3 if you would like to convert Pounds to Yen \")\n",
        "  print(\"Enter 4 if you would like to convert Pounds to Euro \") \n",
        "  print(\"Enter 5 if you would like to convert Dollars to Euro \")\n",
        "  print(\"Enter 6 if you would like to convert Dollars to Pound_sterling \")\n",
        "  print(\"Enter 7 if you would like to convert Dollars to Serbian_dinar \")\n",
        "  Answer = input(\"Enter Number \")  \n",
        "  if Answer == \"1\":\n",
        "    Pound_Dollar()\n",
        "  elif Answer == \"2\":\n",
        "    Dollar_Pound()\n",
        "  elif Answer == \"3\":\n",
        "    Pound_Yen()\n",
        "  elif Answer == \"4\":\n",
        "    Pound_Euro()\n",
        "  elif Answer == \"5\":\n",
        "    Dollars_Euro()\n",
        "  elif Answer == \"6\":\n",
        "    Dollars_Pound_sterling()\n",
        "  elif Answer == \"7\":\n",
        "    Dollars_Serbian_dinar()\n",
        "  else:\n",
        "    print(\"Invalid Answer\")\n",
        "\n",
        "main()\n"
      ],
      "execution_count": null,
      "outputs": [
        {
          "output_type": "stream",
          "name": "stdout",
          "text": [
            "Enter 1 if you would like to convert Pounds to Dollars \n",
            "Enter 2 if you would like to convert Dollars to Pounds \n",
            "Enter 3 if you would like to convert Pounds to Yen \n",
            "Enter 4 if you would like to convert Pounds to Euro \n",
            "Enter 5 if you would like to convert Dollars to Euro \n",
            "Enter 6 if you would like to convert Dollars to Pound_sterling \n",
            "Enter 7 if you would like to convert Dollars to Serbian_dinar \n",
            "Enter Number 2\n",
            "Enter Dollars 10\n",
            "7.3\n"
          ]
        }
      ]
    },
    {
      "cell_type": "markdown",
      "metadata": {
        "id": "KJv9TtkvLIwk"
      },
      "source": [
        "**Study Example 12, its output and do Exercise 12**"
      ]
    },
    {
      "cell_type": "code",
      "metadata": {
        "colab": {
          "base_uri": "https://localhost:8080/"
        },
        "id": "4qCy5rKkLPxF",
        "outputId": "51d2014d-a8bd-46e4-9eeb-144d4630aa52"
      },
      "source": [
        "# Example 12\n",
        "# Calculator\n",
        "def Addition(x,y):\n",
        "  Result = x+y\n",
        "  print(Result)\n",
        "\n",
        "def Subtraction(x,y):\n",
        "  Result = x-y\n",
        "  print(Result)\n",
        "  \n",
        "def main():\n",
        "\n",
        "  print(\"Select operation.\")\n",
        "  print(\"1.Add\")\n",
        "  print(\"2.Subtract\")\n",
        "\n",
        "  choice = input(\"Enter choice(1/2) \") \n",
        "\n",
        "  \n",
        "\n",
        "  # Check if choice is one of the two options\n",
        "  if choice in ('1', '2'):\n",
        "      num1 = int(input(\"Enter first number: \"))\n",
        "      num2 = int(input(\"Enter second number: \"))\n",
        "\n",
        "  if choice == '1':\n",
        "      Addition(num1,num2)\n",
        "  elif choice == '2':\n",
        "      Subtraction(num1,num2)\n",
        "  else:\n",
        "      print(\"Invalid Input\")\n",
        "\n",
        "   # EndWhile\n",
        "      \n",
        "  print(\"Program has Ended\")\n",
        "\n",
        "main()\n"
      ],
      "execution_count": null,
      "outputs": [
        {
          "output_type": "stream",
          "name": "stdout",
          "text": [
            "Select operation.\n",
            "1.Add\n",
            "2.Subtract\n",
            "Enter choice(1/2) 1\n",
            "Enter first number: 2\n",
            "Enter second number: 3\n",
            "5\n",
            "Program has Ended\n"
          ]
        }
      ]
    },
    {
      "cell_type": "markdown",
      "metadata": {
        "id": "UgHV5QvtP2xf"
      },
      "source": [
        "**Exercise 12 - Now extend the Program to include:-**\n",
        "\n",
        "\n",
        "1.   Multiplication\n",
        "2.   Division\n",
        "3.   MOD \n",
        "4.   DIV \n",
        "\n",
        "<br><br> Note 8%2 = 0. This means 8 MOD 2 = 0.\n",
        "<br>MOD (Symbol '%' in Python) is the remainder when two numbers are divided by each other.\n",
        "<br><br> Note 8//2 = 4. This means 8 DIV 2 = 4.\n",
        "<br>DIV (Symbol '//' in Python) means the Quotient when two numbers are divided by each other.\n",
        "\n"
      ]
    },
    {
      "cell_type": "code",
      "metadata": {
        "id": "B2bHIhRwRJSc",
        "colab": {
          "base_uri": "https://localhost:8080/"
        },
        "outputId": "ba8c8a53-5e20-4dc7-89fb-5b2e96f37840"
      },
      "source": [
        "# Insert Code Here# Example 4\n",
        "# Calculator\n",
        "def Addition(x,y):\n",
        "  Result = x+y\n",
        "  print(Result)\n",
        "\n",
        "def Subtraction(x,y):\n",
        "  Result = x-y\n",
        "  print(Result)\n",
        "\n",
        "def Multiplication(x,y):\n",
        "  Result = x*y\n",
        "  print(Result)\n",
        "\n",
        "def DIV(x,y):\n",
        "  Result = x//y    \n",
        "  print(Result)\n",
        "\n",
        "def Division(x,y):\n",
        "  Result = x/y    \n",
        "  print(Result)  \n",
        "  \n",
        "\n",
        "def MOD(x,y):\n",
        "  Result = x%y    \n",
        "  print(Result)   \n",
        "  \n",
        "  \n",
        "def main():\n",
        "\n",
        "  print(\"Select operation.\")\n",
        "  print(\"1.Add\")\n",
        "  print(\"2.Subtract\")\n",
        "  print(\"3.Multiplication\")\n",
        "  print(\"4.DIV\")\n",
        "  print(\"5.Division\")\n",
        "  print(\"6.MOD\")\n",
        "\n",
        "  choice = input(\"Enter choice(1/2/3/4/5/6) \") \n",
        "\n",
        "  \n",
        "\n",
        "  # Check if choice is one of the two options\n",
        "  if choice in ('1', '2','3','4','5','6'):\n",
        "      num1 = int(input(\"Enter first number: \"))\n",
        "      num2 = int(input(\"Enter second number: \"))\n",
        "#      num3 = int(input(\"Enter third number: \"))\n",
        "#      num4 = int(input(\"Enter fourth number: \"))\n",
        "#      num5 = int(input(\"Enter fith number: \"))\n",
        "#      num6 = int(input(\"Enter sixth number: \"))\n",
        "\n",
        "  if choice == '1':\n",
        "    Addition(num1,num2)\n",
        "  elif choice == '2':\n",
        "    Subtraction(num1,num2)\n",
        "  elif choice =='3':\n",
        "    Multiplication(num1,num2)\n",
        "  elif choice == '4':\n",
        "    DIV(num1,num2)\n",
        "  elif choice == '5':\n",
        "    Division(num1,num2)\n",
        "  elif choice == '6':\n",
        "    MOD(num1,num2)\n",
        "  else:\n",
        "    print(\"Invalid Input\")\n",
        "\n",
        "   # EndWhile\n",
        "      \n",
        "main()\n"
      ],
      "execution_count": null,
      "outputs": [
        {
          "output_type": "stream",
          "name": "stdout",
          "text": [
            "Select operation.\n",
            "1.Add\n",
            "2.Subtract\n",
            "3.Multiplication\n",
            "4.DIV\n",
            "5.Division\n",
            "6.MOD\n",
            "Enter choice(1/2/3/4/5/6) 6\n",
            "Enter first number: 1\n",
            "Enter second number: 2\n",
            "1\n"
          ]
        }
      ]
    }
  ]
}