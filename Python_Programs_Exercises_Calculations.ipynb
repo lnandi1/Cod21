{
  "nbformat": 4,
  "nbformat_minor": 0,
  "metadata": {
    "colab": {
      "name": "Python_Programs_Exercises_Calculations.ipynb",
      "provenance": [],
      "collapsed_sections": []
    },
    "kernelspec": {
      "name": "python3",
      "display_name": "Python 3"
    },
    "language_info": {
      "name": "python"
    }
  },
  "cells": [
    {
      "cell_type": "markdown",
      "metadata": {
        "id": "3_e3zVPFEmmB"
      },
      "source": [
        "### **Python Programs to do with Input & Output & Calculations**"
      ]
    },
    {
      "cell_type": "code",
      "metadata": {
        "id": "VUCBtcCsEnG5",
        "colab": {
          "base_uri": "https://localhost:8080/"
        },
        "outputId": "0d16f220-a7e5-494a-8527-61828653eb1b"
      },
      "source": [
        "# Program 1 - My First Program\n",
        "# Demonstrating Output\n",
        "print(\"Happy Christmas\")"
      ],
      "execution_count": 1,
      "outputs": [
        {
          "output_type": "stream",
          "text": [
            "Happy Christmas\n"
          ],
          "name": "stdout"
        }
      ]
    },
    {
      "cell_type": "code",
      "metadata": {
        "colab": {
          "base_uri": "https://localhost:8080/"
        },
        "id": "TFWjLPsMJRHb",
        "outputId": "6f38168f-1f97-42cf-f6c7-ce2bcf7c62fc"
      },
      "source": [
        "#Program 2 - My Second Program\n",
        "print(\"I like Chocolate\\n\") #\\n means NewLine\n",
        "print(\"I like Mangoes\\n\")"
      ],
      "execution_count": null,
      "outputs": [
        {
          "output_type": "stream",
          "text": [
            "I like Chocolate\n",
            "\n",
            "I like Mangoes\n",
            "\n"
          ],
          "name": "stdout"
        }
      ]
    },
    {
      "cell_type": "markdown",
      "metadata": {
        "id": "lpuxnQ9TBknK"
      },
      "source": [
        "**Exercise 1 - Write a Programn which outputs the phrase \"To be or not to be\"**"
      ]
    },
    {
      "cell_type": "code",
      "metadata": {
        "id": "h_Nn3tQsBvjL",
        "colab": {
          "base_uri": "https://localhost:8080/"
        },
        "outputId": "2ec9fb09-09d6-4663-d3d6-bbedf412096d"
      },
      "source": [
        "# Insert code here\n",
        "print(\"Hello\")"
      ],
      "execution_count": null,
      "outputs": [
        {
          "output_type": "stream",
          "text": [
            "Hello\n"
          ],
          "name": "stdout"
        }
      ]
    },
    {
      "cell_type": "markdown",
      "metadata": {
        "id": "5bs7AQ0DCEVr"
      },
      "source": [
        "**Exercise 2 - Write a Program to Output the phrases from one of Shakespheare's sonnets:-**\n",
        "\n",
        "1. **\"Music to hear, why hear'st music so sadly\"**\n",
        "2. **\"Sweets with sweets warre not, joy delights in delight\"**\n",
        "**on 2 separate lines**"
      ]
    },
    {
      "cell_type": "code",
      "metadata": {
        "id": "8JJb67llCk2t"
      },
      "source": [
        "# Insert Code Here"
      ],
      "execution_count": null,
      "outputs": []
    },
    {
      "cell_type": "code",
      "metadata": {
        "colab": {
          "base_uri": "https://localhost:8080/"
        },
        "id": "ZoGT0wL6Jifc",
        "outputId": "95d58501-4c9c-45ac-f68b-734233436c08"
      },
      "source": [
        "# Program 3 - Input and Output\n",
        "Phrase = input(\"Enter a Phrase \")\n",
        "print(Phrase)"
      ],
      "execution_count": null,
      "outputs": [
        {
          "output_type": "stream",
          "text": [
            "Enter a Phrase Hello World\n",
            "Hello World\n"
          ],
          "name": "stdout"
        }
      ]
    },
    {
      "cell_type": "code",
      "metadata": {
        "colab": {
          "base_uri": "https://localhost:8080/"
        },
        "id": "C0E3TgmcJwa9",
        "outputId": "f37cfa13-90b9-4277-d582-647b85c1bdbd"
      },
      "source": [
        "# Program 4 - Input and Output\n",
        "Name = input(\"Enter Your Name \")\n",
        "print(Name)"
      ],
      "execution_count": null,
      "outputs": [
        {
          "output_type": "stream",
          "text": [
            "Enter Your Name Peter\n",
            "Peter\n"
          ],
          "name": "stdout"
        }
      ]
    },
    {
      "cell_type": "code",
      "metadata": {
        "colab": {
          "base_uri": "https://localhost:8080/"
        },
        "id": "MPEaxTpjKlpt",
        "outputId": "adf6459d-8a3a-4828-bec4-799403e0e322"
      },
      "source": [
        "# Program 5 - Input and Output\n",
        "Capital = input(\"What is the Capital of France? \")\n",
        "print(\"The Capital of France is \", Capital)"
      ],
      "execution_count": null,
      "outputs": [
        {
          "output_type": "stream",
          "text": [
            "What is the Capital of France? Paris\n",
            "The Capital of France is  Paris\n"
          ],
          "name": "stdout"
        }
      ]
    },
    {
      "cell_type": "code",
      "metadata": {
        "id": "mXosZ-HH2As1",
        "colab": {
          "base_uri": "https://localhost:8080/"
        },
        "outputId": "8b4f760d-7be7-4bd2-9b9f-d66be927ffb6"
      },
      "source": [
        "# Program 5a - Input and Output\n",
        "Capital = input(\"What is the Capital of France? \")\n",
        "print(\"The Capital of France is\\n \", Capital)"
      ],
      "execution_count": null,
      "outputs": [
        {
          "output_type": "stream",
          "text": [
            "What is the Capital of France? Paris\n",
            "The Capital of France is\n",
            "  Paris\n"
          ],
          "name": "stdout"
        }
      ]
    },
    {
      "cell_type": "markdown",
      "metadata": {
        "id": "L2BJ4LFiC2zw"
      },
      "source": [
        "**Exercise 3 - Write a Program which invites the user to input an answer to any question of your choice and then displays the answer on the screen**"
      ]
    },
    {
      "cell_type": "code",
      "metadata": {
        "id": "tnradUC4DIU5"
      },
      "source": [
        "# Insert Code Here"
      ],
      "execution_count": null,
      "outputs": []
    },
    {
      "cell_type": "code",
      "metadata": {
        "colab": {
          "base_uri": "https://localhost:8080/"
        },
        "id": "w_5FyJqVL680",
        "outputId": "728264be-4c22-4e0c-d604-dac2831fe324"
      },
      "source": [
        "# Program 6 - Dealing with Input of Numbers - Integers\n",
        "Countries = int(input(\"How many countries are there in the world? \")) #Note we are entering numbers (integers) here\n",
        "print(Countries)"
      ],
      "execution_count": null,
      "outputs": [
        {
          "output_type": "stream",
          "text": [
            "How many countries are there in the world? 196\n",
            "196\n"
          ],
          "name": "stdout"
        }
      ]
    },
    {
      "cell_type": "markdown",
      "metadata": {
        "id": "uALvUoPnDQ0Y"
      },
      "source": [
        "**Exercise 4 - Write a Program which invites the user to input the number of rivers in the world and displays the answer**"
      ]
    },
    {
      "cell_type": "code",
      "metadata": {
        "id": "uTN9JdMFDhYI"
      },
      "source": [
        "# Put Your Code Here"
      ],
      "execution_count": null,
      "outputs": []
    },
    {
      "cell_type": "code",
      "metadata": {
        "colab": {
          "base_uri": "https://localhost:8080/"
        },
        "id": "-Dg-K2j6JJtW",
        "outputId": "e762ca71-f84e-459b-f608-e0ac2330787a"
      },
      "source": [
        "# Program 7 - Performing Calculations\n",
        "# Calculating the area of a square\n",
        "Length = int(input(\"Enter the length of a square in cm \"))\n",
        "Area = Length * Length\n",
        "print(\"The area of the square is \", Area, \" cm square\")\n",
        "\n",
        "\n"
      ],
      "execution_count": null,
      "outputs": [
        {
          "output_type": "stream",
          "text": [
            "Enter the length of a square in cm 5\n",
            "The area of the square is  25  cm square\n"
          ],
          "name": "stdout"
        }
      ]
    },
    {
      "cell_type": "markdown",
      "metadata": {
        "id": "UesMfwo4Dqzo"
      },
      "source": [
        "**Exercise 5 - Write a Program which calculates the area of a rectangle by inviting the user to input the height and width of the rectangle**"
      ]
    },
    {
      "cell_type": "code",
      "metadata": {
        "id": "5xqm_aIXD9tG"
      },
      "source": [
        "# Insert Your Code Here"
      ],
      "execution_count": null,
      "outputs": []
    },
    {
      "cell_type": "code",
      "metadata": {
        "id": "lP3EuWAuJsoF",
        "colab": {
          "base_uri": "https://localhost:8080/"
        },
        "outputId": "196e1371-3d6d-4e9a-f240-404102be93d8"
      },
      "source": [
        "# Program 8 - Perfoming Calculations\n",
        "# Calculating the Area of a Square\n",
        "Length = float(input(\"Enter the length of a square in cm \"))\n",
        "Area = Length **2\n",
        "print(\" The area of the square is \", Area, \" cm square \")"
      ],
      "execution_count": null,
      "outputs": [
        {
          "output_type": "stream",
          "text": [
            "Enter the length of a square in cm 3.4\n",
            " The area of the square is  11.559999999999999  cm square \n"
          ],
          "name": "stdout"
        }
      ]
    },
    {
      "cell_type": "markdown",
      "metadata": {
        "id": "Jg_QwvOyFJHg"
      },
      "source": [
        "**<br>Exercise 6 - Write a Program which calculates the area of a circle and outputs the answer</br>**\n",
        "**(Note the Formula for Area of a Circle = $\\pi * Radius^2$)**"
      ]
    },
    {
      "cell_type": "markdown",
      "metadata": {
        "id": "UWWBHGzy_7e-"
      },
      "source": [
        ""
      ]
    },
    {
      "cell_type": "code",
      "metadata": {
        "id": "VYWdvLEdFp_L"
      },
      "source": [
        "# Insert Code Here"
      ],
      "execution_count": null,
      "outputs": []
    },
    {
      "cell_type": "markdown",
      "metadata": {
        "id": "ddL2V8TaF9h6"
      },
      "source": [
        "**<br>Exercise 7 - Write a Program which calculates the circumference of a circle and outputs the result to 2 decimal places</br>**\n",
        "**<br>(Formula: Circumference of a Circle = $2*\\pi*Radius$)</br>**\n",
        "**<br>(To round to 2 decimal places use round(Circumference,2) - so here we round Circumference to 2 decimal places</br>**\n"
      ]
    },
    {
      "cell_type": "code",
      "metadata": {
        "id": "y33wylKAGMJ4"
      },
      "source": [
        "# Insert Code Here"
      ],
      "execution_count": null,
      "outputs": []
    },
    {
      "cell_type": "code",
      "metadata": {
        "colab": {
          "base_uri": "https://localhost:8080/"
        },
        "id": "usq6pyRpijcJ",
        "outputId": "8f4ea577-9040-4217-a0af-c7e786f9e0b6"
      },
      "source": [
        "# Program 8a - To the Power of Zero and to the Power of 0.5 (Half)\n",
        "# Anything raised to the Power of Zero is 1\n",
        "\n",
        "x = 10\n",
        "print(\"Anything raised to the Power Zero \",x**0)\n",
        "\n",
        "# Anything raised to the Power 0.5 is the Square Root of the number\n",
        "y =9\n",
        "print(y, \"to the power 0.5 (1/2) is:- \",y**0.5)"
      ],
      "execution_count": 5,
      "outputs": [
        {
          "output_type": "stream",
          "text": [
            "Anything raised to the Power Zero  1\n",
            "9 to the power 0.5 (1/2) is:-  3.0\n"
          ],
          "name": "stdout"
        }
      ]
    },
    {
      "cell_type": "markdown",
      "metadata": {
        "id": "KTOW202fG8tF"
      },
      "source": [
        "**Exercise 8 - Write a Program which invites the user to enter a number and outputs the cube of the number**"
      ]
    },
    {
      "cell_type": "code",
      "metadata": {
        "id": "1faPx9lDHIH0"
      },
      "source": [
        "# Insert Code Here"
      ],
      "execution_count": null,
      "outputs": []
    },
    {
      "cell_type": "code",
      "metadata": {
        "colab": {
          "base_uri": "https://localhost:8080/"
        },
        "id": "G4j4wsqILFns",
        "outputId": "309b9e84-e922-4f38-bd7c-232793d94e1b"
      },
      "source": [
        "# Program 9 - Performing Calculations\n",
        "# Adding a Series of Numbers or the Sum of a Series of Numbers\n",
        "A = int(input(\"Enter 1st Number \"))\n",
        "B = int(input(\"Enter 2nd Number \"))\n",
        "Total = A + B\n",
        "print(Total)"
      ],
      "execution_count": null,
      "outputs": [
        {
          "output_type": "stream",
          "text": [
            "Enter 1st Number 2\n",
            "Enter 2nd Number 3\n",
            "5\n"
          ],
          "name": "stdout"
        }
      ]
    },
    {
      "cell_type": "markdown",
      "metadata": {
        "id": "ty4reKs58GBo"
      },
      "source": [
        "**Exercise 9 - Write a Program which asks the user for three numbers and outputs the sum**"
      ]
    },
    {
      "cell_type": "code",
      "metadata": {
        "id": "JXiablVB3lAU"
      },
      "source": [
        "#Insert Code Here"
      ],
      "execution_count": null,
      "outputs": []
    },
    {
      "cell_type": "code",
      "metadata": {
        "colab": {
          "base_uri": "https://localhost:8080/"
        },
        "id": "ylKTJv6R3QRo",
        "outputId": "811d7af0-421c-4124-c679-f072caa7955a"
      },
      "source": [
        "# Program 9a - Performing Calculations\n",
        "# Calculating the Product of a Number\n",
        "X = int(input(\"Enter 1st Number \"))\n",
        "Y = int(input(\"Enter 2nd Number \"))\n",
        "Result = X*Y\n",
        "print(Result)"
      ],
      "execution_count": 11,
      "outputs": [
        {
          "output_type": "stream",
          "text": [
            "Enter 1st Number 3\n",
            "Enter 2nd Number 4\n",
            "12\n"
          ],
          "name": "stdout"
        }
      ]
    },
    {
      "cell_type": "markdown",
      "metadata": {
        "id": "ugUpX0vb3vJo"
      },
      "source": [
        "**Exercise 10 - Write a Program which asks the user for 3 numbers and outputs the product of these 3 numbers**"
      ]
    },
    {
      "cell_type": "code",
      "metadata": {
        "id": "ljl4XnbO8QXY"
      },
      "source": [
        "# Insert Code Here"
      ],
      "execution_count": null,
      "outputs": []
    },
    {
      "cell_type": "code",
      "metadata": {
        "colab": {
          "base_uri": "https://localhost:8080/"
        },
        "id": "155tfMFFMN74",
        "outputId": "5cf5a5dd-125c-446e-86e6-49851c7444b0"
      },
      "source": [
        "# Program 10 - Performing Calculations\n",
        "# Dividing Numbers\n",
        "A = 10\n",
        "B = 2\n",
        "Total = A/ B\n",
        "print(Total)"
      ],
      "execution_count": null,
      "outputs": [
        {
          "output_type": "stream",
          "text": [
            "5.0\n"
          ],
          "name": "stdout"
        }
      ]
    },
    {
      "cell_type": "code",
      "metadata": {
        "colab": {
          "base_uri": "https://localhost:8080/"
        },
        "id": "BFqPi2v_Ms84",
        "outputId": "1463d274-d2fa-498c-9396-c86b5fba90ad"
      },
      "source": [
        "# Program 11 - Performing Calculations\n",
        "# Introducing the DIV operator\n",
        "A = int(input(\"Enter 1st Number \"))\n",
        "B = int(input(\"Enter 2nd Number \"))\n",
        "Total = A // B\n",
        "print(\"The DIV of the two numbers is \", Total)"
      ],
      "execution_count": 9,
      "outputs": [
        {
          "output_type": "stream",
          "text": [
            "Enter 1st Number 20\n",
            "Enter 2nd Number 3\n",
            "The DIV of the two numbers is  6\n"
          ],
          "name": "stdout"
        }
      ]
    },
    {
      "cell_type": "code",
      "metadata": {
        "id": "1SgNnYYYOsve",
        "colab": {
          "base_uri": "https://localhost:8080/"
        },
        "outputId": "96e2eaab-f1f7-4e58-f471-5e81c6656bec"
      },
      "source": [
        "# Program 12 - Performing Calculations\n",
        "# Introducing the MOD operator\n",
        "A = int(input(\"Enter 1st Number \"))\n",
        "B = int(input(\"Enter 2nd Number \"))\n",
        "Total = A % B\n",
        "print(\"The MOD of the two numbers is \", Total)"
      ],
      "execution_count": 8,
      "outputs": [
        {
          "output_type": "stream",
          "text": [
            "Enter 1st Number 20\n",
            "Enter 2nd Number 3\n",
            "The MOD of the two numbers is  2\n"
          ],
          "name": "stdout"
        }
      ]
    },
    {
      "cell_type": "code",
      "metadata": {
        "colab": {
          "base_uri": "https://localhost:8080/"
        },
        "id": "t478VfabP1yD",
        "outputId": "af86e71c-27cd-4ed7-e4da-49cf2c4de075"
      },
      "source": [
        "# Program 13 - Performing Calculations\n",
        "# With MOD and DIV\n",
        "Min = int(input(\"Enter the number of minutes \" ))\n",
        "Hours = Min // 60 #This is using the DIV Operator\n",
        "Minutes = Min % 60 # This is using the MOD Operator]\n",
        "print(Hours, 'hours ', Minutes, 'minutes ')\n"
      ],
      "execution_count": 10,
      "outputs": [
        {
          "output_type": "stream",
          "text": [
            "Enter the number of minutes 130\n",
            "2 hours  10 minutes \n"
          ],
          "name": "stdout"
        }
      ]
    },
    {
      "cell_type": "markdown",
      "metadata": {
        "id": "9J9GRUQY8vWE"
      },
      "source": [
        "**Exercise 11 - Write a Program which asks the user to input a number of days and outputs how many years and months that is. So for example 400 days is 13 months and 10 days - assuming 30 days a month**"
      ]
    },
    {
      "cell_type": "code",
      "metadata": {
        "id": "Q1tONCkM9Hid"
      },
      "source": [
        "# Insert Code Here"
      ],
      "execution_count": null,
      "outputs": []
    },
    {
      "cell_type": "code",
      "metadata": {
        "colab": {
          "base_uri": "https://localhost:8080/"
        },
        "id": "_0itIcaE0fuu",
        "outputId": "fcf2d3ad-f2bc-489b-e4f4-74a38807718f"
      },
      "source": [
        "# Program 14 - Performing Calculations\n",
        "# The area of a circle\n",
        "PI = 3.14   #Note here we are defining the number PI\n",
        "Radius = 10\n",
        "Area = PI * Radius * Radius\n",
        "print(Area)"
      ],
      "execution_count": null,
      "outputs": [
        {
          "output_type": "stream",
          "text": [
            "314.0\n"
          ],
          "name": "stdout"
        }
      ]
    },
    {
      "cell_type": "code",
      "metadata": {
        "colab": {
          "base_uri": "https://localhost:8080/"
        },
        "id": "hFjAfBX39LYl",
        "outputId": "931feb19-0ec7-4e39-9391-7b9a278e03a1"
      },
      "source": [
        "# Program 14 - Performing Calculations\n",
        "import math\n",
        "Radius = int(input(\"Enter Radius \"))\n",
        "Area = math.pi * Radius**2   #Note in this example the program is generating the number PI\n",
        "print(Area)"
      ],
      "execution_count": null,
      "outputs": [
        {
          "output_type": "stream",
          "text": [
            "Enter Radius 3\n",
            "28.274333882308138\n"
          ],
          "name": "stdout"
        }
      ]
    },
    {
      "cell_type": "markdown",
      "metadata": {
        "id": "_MMs7u8h92hD"
      },
      "source": [
        "**<br>Exercise 12 - Write a Program to calculate the Volume of a cylinder of a given height.</br>** \n",
        "**<br>Give the answer to 2 decimal places</br>**\n",
        "**<br>(Volume of Cylinder = $height*\\pi*Radius^2$)</br>**"
      ]
    },
    {
      "cell_type": "code",
      "metadata": {
        "id": "jobRI_cg-IrV"
      },
      "source": [
        "# Insert Code Here"
      ],
      "execution_count": null,
      "outputs": []
    },
    {
      "cell_type": "code",
      "metadata": {
        "id": "wHr0i7cF2MAQ"
      },
      "source": [
        "# Program 15 - Converting Pounds to Dollars\n",
        "Pound = int(input(\"Enter number of pounds \"))\n",
        "Dollars = Pounds * 1.4\n",
        "print(Dollars)"
      ],
      "execution_count": null,
      "outputs": []
    },
    {
      "cell_type": "markdown",
      "metadata": {
        "id": "jvaBhm2y-WwZ"
      },
      "source": [
        "**Exercise 13 - Write a Program to Convert Dollars to Euros**"
      ]
    },
    {
      "cell_type": "markdown",
      "metadata": {
        "id": "dQycSvSG-FQx"
      },
      "source": [
        ""
      ]
    },
    {
      "cell_type": "code",
      "metadata": {
        "id": "u04vjCh1-jo6"
      },
      "source": [
        "# Insert code here"
      ],
      "execution_count": null,
      "outputs": []
    },
    {
      "cell_type": "markdown",
      "metadata": {
        "id": "A2n2si75AUsL"
      },
      "source": [
        "**Exercise 14 - Write a Program which converts any currency to another currency - choose your own currencies**"
      ]
    },
    {
      "cell_type": "code",
      "metadata": {
        "id": "Qx4Vanf_Aplh"
      },
      "source": [
        "#Insert Code Here"
      ],
      "execution_count": null,
      "outputs": []
    }
  ]
}